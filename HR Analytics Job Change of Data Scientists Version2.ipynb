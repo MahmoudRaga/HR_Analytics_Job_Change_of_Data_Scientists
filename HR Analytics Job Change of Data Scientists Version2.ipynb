{
 "cells": [
  {
   "cell_type": "markdown",
   "id": "formed-board",
   "metadata": {},
   "source": [
    "# \"Importing Libraries\""
   ]
  },
  {
   "cell_type": "code",
   "execution_count": 1,
   "id": "magnetic-focus",
   "metadata": {},
   "outputs": [],
   "source": [
    "import numpy as np\n",
    "import pandas as pd \n",
    "import matplotlib.pyplot as plt\n",
    "import seaborn as sns\n",
    "from sklearn.impute import SimpleImputer\n",
    "from sklearn.preprocessing import LabelEncoder,StandardScaler\n",
    "from sklearn.model_selection import train_test_split\n",
    "from sklearn.svm import SVC\n",
    "from sklearn.metrics import classification_report,confusion_matrix,accuracy_score\n",
    "plt.style.use('dark_background')"
   ]
  },
  {
   "cell_type": "markdown",
   "id": "coated-raleigh",
   "metadata": {},
   "source": [
    "# \"Reading Data\""
   ]
  },
  {
   "cell_type": "code",
   "execution_count": 3,
   "id": "conscious-cornwall",
   "metadata": {},
   "outputs": [
    {
     "data": {
      "text/html": [
       "<div>\n",
       "<style scoped>\n",
       "    .dataframe tbody tr th:only-of-type {\n",
       "        vertical-align: middle;\n",
       "    }\n",
       "\n",
       "    .dataframe tbody tr th {\n",
       "        vertical-align: top;\n",
       "    }\n",
       "\n",
       "    .dataframe thead th {\n",
       "        text-align: right;\n",
       "    }\n",
       "</style>\n",
       "<table border=\"1\" class=\"dataframe\">\n",
       "  <thead>\n",
       "    <tr style=\"text-align: right;\">\n",
       "      <th></th>\n",
       "      <th>enrollee_id</th>\n",
       "      <th>city</th>\n",
       "      <th>city_development_index</th>\n",
       "      <th>gender</th>\n",
       "      <th>relevent_experience</th>\n",
       "      <th>enrolled_university</th>\n",
       "      <th>education_level</th>\n",
       "      <th>major_discipline</th>\n",
       "      <th>experience</th>\n",
       "      <th>company_size</th>\n",
       "      <th>company_type</th>\n",
       "      <th>last_new_job</th>\n",
       "      <th>training_hours</th>\n",
       "      <th>target</th>\n",
       "    </tr>\n",
       "  </thead>\n",
       "  <tbody>\n",
       "    <tr>\n",
       "      <th>0</th>\n",
       "      <td>8949</td>\n",
       "      <td>city_103</td>\n",
       "      <td>0.920</td>\n",
       "      <td>Male</td>\n",
       "      <td>Has relevent experience</td>\n",
       "      <td>no_enrollment</td>\n",
       "      <td>Graduate</td>\n",
       "      <td>STEM</td>\n",
       "      <td>&gt;20</td>\n",
       "      <td>NaN</td>\n",
       "      <td>NaN</td>\n",
       "      <td>1</td>\n",
       "      <td>36</td>\n",
       "      <td>1.0</td>\n",
       "    </tr>\n",
       "    <tr>\n",
       "      <th>1</th>\n",
       "      <td>29725</td>\n",
       "      <td>city_40</td>\n",
       "      <td>0.776</td>\n",
       "      <td>Male</td>\n",
       "      <td>No relevent experience</td>\n",
       "      <td>no_enrollment</td>\n",
       "      <td>Graduate</td>\n",
       "      <td>STEM</td>\n",
       "      <td>15</td>\n",
       "      <td>50-99</td>\n",
       "      <td>Pvt Ltd</td>\n",
       "      <td>&gt;4</td>\n",
       "      <td>47</td>\n",
       "      <td>0.0</td>\n",
       "    </tr>\n",
       "    <tr>\n",
       "      <th>2</th>\n",
       "      <td>11561</td>\n",
       "      <td>city_21</td>\n",
       "      <td>0.624</td>\n",
       "      <td>NaN</td>\n",
       "      <td>No relevent experience</td>\n",
       "      <td>Full time course</td>\n",
       "      <td>Graduate</td>\n",
       "      <td>STEM</td>\n",
       "      <td>5</td>\n",
       "      <td>NaN</td>\n",
       "      <td>NaN</td>\n",
       "      <td>never</td>\n",
       "      <td>83</td>\n",
       "      <td>0.0</td>\n",
       "    </tr>\n",
       "    <tr>\n",
       "      <th>3</th>\n",
       "      <td>33241</td>\n",
       "      <td>city_115</td>\n",
       "      <td>0.789</td>\n",
       "      <td>NaN</td>\n",
       "      <td>No relevent experience</td>\n",
       "      <td>NaN</td>\n",
       "      <td>Graduate</td>\n",
       "      <td>Business Degree</td>\n",
       "      <td>&lt;1</td>\n",
       "      <td>NaN</td>\n",
       "      <td>Pvt Ltd</td>\n",
       "      <td>never</td>\n",
       "      <td>52</td>\n",
       "      <td>1.0</td>\n",
       "    </tr>\n",
       "    <tr>\n",
       "      <th>4</th>\n",
       "      <td>666</td>\n",
       "      <td>city_162</td>\n",
       "      <td>0.767</td>\n",
       "      <td>Male</td>\n",
       "      <td>Has relevent experience</td>\n",
       "      <td>no_enrollment</td>\n",
       "      <td>Masters</td>\n",
       "      <td>STEM</td>\n",
       "      <td>&gt;20</td>\n",
       "      <td>50-99</td>\n",
       "      <td>Funded Startup</td>\n",
       "      <td>4</td>\n",
       "      <td>8</td>\n",
       "      <td>0.0</td>\n",
       "    </tr>\n",
       "    <tr>\n",
       "      <th>...</th>\n",
       "      <td>...</td>\n",
       "      <td>...</td>\n",
       "      <td>...</td>\n",
       "      <td>...</td>\n",
       "      <td>...</td>\n",
       "      <td>...</td>\n",
       "      <td>...</td>\n",
       "      <td>...</td>\n",
       "      <td>...</td>\n",
       "      <td>...</td>\n",
       "      <td>...</td>\n",
       "      <td>...</td>\n",
       "      <td>...</td>\n",
       "      <td>...</td>\n",
       "    </tr>\n",
       "    <tr>\n",
       "      <th>19153</th>\n",
       "      <td>7386</td>\n",
       "      <td>city_173</td>\n",
       "      <td>0.878</td>\n",
       "      <td>Male</td>\n",
       "      <td>No relevent experience</td>\n",
       "      <td>no_enrollment</td>\n",
       "      <td>Graduate</td>\n",
       "      <td>Humanities</td>\n",
       "      <td>14</td>\n",
       "      <td>NaN</td>\n",
       "      <td>NaN</td>\n",
       "      <td>1</td>\n",
       "      <td>42</td>\n",
       "      <td>1.0</td>\n",
       "    </tr>\n",
       "    <tr>\n",
       "      <th>19154</th>\n",
       "      <td>31398</td>\n",
       "      <td>city_103</td>\n",
       "      <td>0.920</td>\n",
       "      <td>Male</td>\n",
       "      <td>Has relevent experience</td>\n",
       "      <td>no_enrollment</td>\n",
       "      <td>Graduate</td>\n",
       "      <td>STEM</td>\n",
       "      <td>14</td>\n",
       "      <td>NaN</td>\n",
       "      <td>NaN</td>\n",
       "      <td>4</td>\n",
       "      <td>52</td>\n",
       "      <td>1.0</td>\n",
       "    </tr>\n",
       "    <tr>\n",
       "      <th>19155</th>\n",
       "      <td>24576</td>\n",
       "      <td>city_103</td>\n",
       "      <td>0.920</td>\n",
       "      <td>Male</td>\n",
       "      <td>Has relevent experience</td>\n",
       "      <td>no_enrollment</td>\n",
       "      <td>Graduate</td>\n",
       "      <td>STEM</td>\n",
       "      <td>&gt;20</td>\n",
       "      <td>50-99</td>\n",
       "      <td>Pvt Ltd</td>\n",
       "      <td>4</td>\n",
       "      <td>44</td>\n",
       "      <td>0.0</td>\n",
       "    </tr>\n",
       "    <tr>\n",
       "      <th>19156</th>\n",
       "      <td>5756</td>\n",
       "      <td>city_65</td>\n",
       "      <td>0.802</td>\n",
       "      <td>Male</td>\n",
       "      <td>Has relevent experience</td>\n",
       "      <td>no_enrollment</td>\n",
       "      <td>High School</td>\n",
       "      <td>NaN</td>\n",
       "      <td>&lt;1</td>\n",
       "      <td>500-999</td>\n",
       "      <td>Pvt Ltd</td>\n",
       "      <td>2</td>\n",
       "      <td>97</td>\n",
       "      <td>0.0</td>\n",
       "    </tr>\n",
       "    <tr>\n",
       "      <th>19157</th>\n",
       "      <td>23834</td>\n",
       "      <td>city_67</td>\n",
       "      <td>0.855</td>\n",
       "      <td>NaN</td>\n",
       "      <td>No relevent experience</td>\n",
       "      <td>no_enrollment</td>\n",
       "      <td>Primary School</td>\n",
       "      <td>NaN</td>\n",
       "      <td>2</td>\n",
       "      <td>NaN</td>\n",
       "      <td>NaN</td>\n",
       "      <td>1</td>\n",
       "      <td>127</td>\n",
       "      <td>0.0</td>\n",
       "    </tr>\n",
       "  </tbody>\n",
       "</table>\n",
       "<p>19158 rows × 14 columns</p>\n",
       "</div>"
      ],
      "text/plain": [
       "       enrollee_id      city  city_development_index gender  \\\n",
       "0             8949  city_103                   0.920   Male   \n",
       "1            29725   city_40                   0.776   Male   \n",
       "2            11561   city_21                   0.624    NaN   \n",
       "3            33241  city_115                   0.789    NaN   \n",
       "4              666  city_162                   0.767   Male   \n",
       "...            ...       ...                     ...    ...   \n",
       "19153         7386  city_173                   0.878   Male   \n",
       "19154        31398  city_103                   0.920   Male   \n",
       "19155        24576  city_103                   0.920   Male   \n",
       "19156         5756   city_65                   0.802   Male   \n",
       "19157        23834   city_67                   0.855    NaN   \n",
       "\n",
       "           relevent_experience enrolled_university education_level  \\\n",
       "0      Has relevent experience       no_enrollment        Graduate   \n",
       "1       No relevent experience       no_enrollment        Graduate   \n",
       "2       No relevent experience    Full time course        Graduate   \n",
       "3       No relevent experience                 NaN        Graduate   \n",
       "4      Has relevent experience       no_enrollment         Masters   \n",
       "...                        ...                 ...             ...   \n",
       "19153   No relevent experience       no_enrollment        Graduate   \n",
       "19154  Has relevent experience       no_enrollment        Graduate   \n",
       "19155  Has relevent experience       no_enrollment        Graduate   \n",
       "19156  Has relevent experience       no_enrollment     High School   \n",
       "19157   No relevent experience       no_enrollment  Primary School   \n",
       "\n",
       "      major_discipline experience company_size    company_type last_new_job  \\\n",
       "0                 STEM        >20          NaN             NaN            1   \n",
       "1                 STEM         15        50-99         Pvt Ltd           >4   \n",
       "2                 STEM          5          NaN             NaN        never   \n",
       "3      Business Degree         <1          NaN         Pvt Ltd        never   \n",
       "4                 STEM        >20        50-99  Funded Startup            4   \n",
       "...                ...        ...          ...             ...          ...   \n",
       "19153       Humanities         14          NaN             NaN            1   \n",
       "19154             STEM         14          NaN             NaN            4   \n",
       "19155             STEM        >20        50-99         Pvt Ltd            4   \n",
       "19156              NaN         <1      500-999         Pvt Ltd            2   \n",
       "19157              NaN          2          NaN             NaN            1   \n",
       "\n",
       "       training_hours  target  \n",
       "0                  36     1.0  \n",
       "1                  47     0.0  \n",
       "2                  83     0.0  \n",
       "3                  52     1.0  \n",
       "4                   8     0.0  \n",
       "...               ...     ...  \n",
       "19153              42     1.0  \n",
       "19154              52     1.0  \n",
       "19155              44     0.0  \n",
       "19156              97     0.0  \n",
       "19157             127     0.0  \n",
       "\n",
       "[19158 rows x 14 columns]"
      ]
     },
     "execution_count": 3,
     "metadata": {},
     "output_type": "execute_result"
    }
   ],
   "source": [
    "dataset = pd.read_csv('aug_train.csv')\n",
    "dataset"
   ]
  },
  {
   "cell_type": "markdown",
   "id": "hearing-analyst",
   "metadata": {},
   "source": [
    "# \"Data Information For (Data_Train)\""
   ]
  },
  {
   "cell_type": "code",
   "execution_count": 4,
   "id": "characteristic-cleanup",
   "metadata": {},
   "outputs": [
    {
     "name": "stdout",
     "output_type": "stream",
     "text": [
      "<class 'pandas.core.frame.DataFrame'>\n",
      "RangeIndex: 19158 entries, 0 to 19157\n",
      "Data columns (total 14 columns):\n",
      " #   Column                  Non-Null Count  Dtype  \n",
      "---  ------                  --------------  -----  \n",
      " 0   enrollee_id             19158 non-null  int64  \n",
      " 1   city                    19158 non-null  object \n",
      " 2   city_development_index  19158 non-null  float64\n",
      " 3   gender                  14650 non-null  object \n",
      " 4   relevent_experience     19158 non-null  object \n",
      " 5   enrolled_university     18772 non-null  object \n",
      " 6   education_level         18698 non-null  object \n",
      " 7   major_discipline        16345 non-null  object \n",
      " 8   experience              19093 non-null  object \n",
      " 9   company_size            13220 non-null  object \n",
      " 10  company_type            13018 non-null  object \n",
      " 11  last_new_job            18735 non-null  object \n",
      " 12  training_hours          19158 non-null  int64  \n",
      " 13  target                  19158 non-null  float64\n",
      "dtypes: float64(2), int64(2), object(10)\n",
      "memory usage: 2.0+ MB\n"
     ]
    },
    {
     "data": {
      "text/plain": [
       "enrollee_id                  0\n",
       "city                         0\n",
       "city_development_index       0\n",
       "gender                    4508\n",
       "relevent_experience          0\n",
       "enrolled_university        386\n",
       "education_level            460\n",
       "major_discipline          2813\n",
       "experience                  65\n",
       "company_size              5938\n",
       "company_type              6140\n",
       "last_new_job               423\n",
       "training_hours               0\n",
       "target                       0\n",
       "dtype: int64"
      ]
     },
     "execution_count": 4,
     "metadata": {},
     "output_type": "execute_result"
    }
   ],
   "source": [
    "dataset.info()\n",
    "dataset.isna().sum()"
   ]
  },
  {
   "cell_type": "code",
   "execution_count": 5,
   "id": "utility-seafood",
   "metadata": {},
   "outputs": [
    {
     "data": {
      "text/plain": [
       "enrollee_id               19158\n",
       "city                        123\n",
       "city_development_index       93\n",
       "gender                        3\n",
       "relevent_experience           2\n",
       "enrolled_university           3\n",
       "education_level               5\n",
       "major_discipline              6\n",
       "experience                   22\n",
       "company_size                  8\n",
       "company_type                  6\n",
       "last_new_job                  6\n",
       "training_hours              241\n",
       "target                        2\n",
       "dtype: int64"
      ]
     },
     "execution_count": 5,
     "metadata": {},
     "output_type": "execute_result"
    }
   ],
   "source": [
    "dataset.nunique()"
   ]
  },
  {
   "cell_type": "code",
   "execution_count": 6,
   "id": "controversial-holocaust",
   "metadata": {},
   "outputs": [
    {
     "data": {
      "text/html": [
       "<div>\n",
       "<style scoped>\n",
       "    .dataframe tbody tr th:only-of-type {\n",
       "        vertical-align: middle;\n",
       "    }\n",
       "\n",
       "    .dataframe tbody tr th {\n",
       "        vertical-align: top;\n",
       "    }\n",
       "\n",
       "    .dataframe thead th {\n",
       "        text-align: right;\n",
       "    }\n",
       "</style>\n",
       "<table border=\"1\" class=\"dataframe\">\n",
       "  <thead>\n",
       "    <tr style=\"text-align: right;\">\n",
       "      <th></th>\n",
       "      <th>enrollee_id</th>\n",
       "      <th>city_development_index</th>\n",
       "      <th>training_hours</th>\n",
       "      <th>target</th>\n",
       "    </tr>\n",
       "  </thead>\n",
       "  <tbody>\n",
       "    <tr>\n",
       "      <th>count</th>\n",
       "      <td>19158.000000</td>\n",
       "      <td>19158.000000</td>\n",
       "      <td>19158.000000</td>\n",
       "      <td>19158.000000</td>\n",
       "    </tr>\n",
       "    <tr>\n",
       "      <th>mean</th>\n",
       "      <td>16875.358179</td>\n",
       "      <td>0.828848</td>\n",
       "      <td>65.366896</td>\n",
       "      <td>0.249348</td>\n",
       "    </tr>\n",
       "    <tr>\n",
       "      <th>std</th>\n",
       "      <td>9616.292592</td>\n",
       "      <td>0.123362</td>\n",
       "      <td>60.058462</td>\n",
       "      <td>0.432647</td>\n",
       "    </tr>\n",
       "    <tr>\n",
       "      <th>min</th>\n",
       "      <td>1.000000</td>\n",
       "      <td>0.448000</td>\n",
       "      <td>1.000000</td>\n",
       "      <td>0.000000</td>\n",
       "    </tr>\n",
       "    <tr>\n",
       "      <th>25%</th>\n",
       "      <td>8554.250000</td>\n",
       "      <td>0.740000</td>\n",
       "      <td>23.000000</td>\n",
       "      <td>0.000000</td>\n",
       "    </tr>\n",
       "    <tr>\n",
       "      <th>50%</th>\n",
       "      <td>16982.500000</td>\n",
       "      <td>0.903000</td>\n",
       "      <td>47.000000</td>\n",
       "      <td>0.000000</td>\n",
       "    </tr>\n",
       "    <tr>\n",
       "      <th>75%</th>\n",
       "      <td>25169.750000</td>\n",
       "      <td>0.920000</td>\n",
       "      <td>88.000000</td>\n",
       "      <td>0.000000</td>\n",
       "    </tr>\n",
       "    <tr>\n",
       "      <th>max</th>\n",
       "      <td>33380.000000</td>\n",
       "      <td>0.949000</td>\n",
       "      <td>336.000000</td>\n",
       "      <td>1.000000</td>\n",
       "    </tr>\n",
       "  </tbody>\n",
       "</table>\n",
       "</div>"
      ],
      "text/plain": [
       "        enrollee_id  city_development_index  training_hours        target\n",
       "count  19158.000000            19158.000000    19158.000000  19158.000000\n",
       "mean   16875.358179                0.828848       65.366896      0.249348\n",
       "std     9616.292592                0.123362       60.058462      0.432647\n",
       "min        1.000000                0.448000        1.000000      0.000000\n",
       "25%     8554.250000                0.740000       23.000000      0.000000\n",
       "50%    16982.500000                0.903000       47.000000      0.000000\n",
       "75%    25169.750000                0.920000       88.000000      0.000000\n",
       "max    33380.000000                0.949000      336.000000      1.000000"
      ]
     },
     "execution_count": 6,
     "metadata": {},
     "output_type": "execute_result"
    }
   ],
   "source": [
    "dataset.describe()"
   ]
  },
  {
   "cell_type": "code",
   "execution_count": 7,
   "id": "adjustable-interface",
   "metadata": {},
   "outputs": [
    {
     "data": {
      "text/html": [
       "<div>\n",
       "<style scoped>\n",
       "    .dataframe tbody tr th:only-of-type {\n",
       "        vertical-align: middle;\n",
       "    }\n",
       "\n",
       "    .dataframe tbody tr th {\n",
       "        vertical-align: top;\n",
       "    }\n",
       "\n",
       "    .dataframe thead th {\n",
       "        text-align: right;\n",
       "    }\n",
       "</style>\n",
       "<table border=\"1\" class=\"dataframe\">\n",
       "  <thead>\n",
       "    <tr style=\"text-align: right;\">\n",
       "      <th></th>\n",
       "      <th>enrollee_id</th>\n",
       "      <th>city_development_index</th>\n",
       "      <th>training_hours</th>\n",
       "      <th>target</th>\n",
       "    </tr>\n",
       "  </thead>\n",
       "  <tbody>\n",
       "    <tr>\n",
       "      <th>enrollee_id</th>\n",
       "      <td>1.000000</td>\n",
       "      <td>-0.040455</td>\n",
       "      <td>0.000998</td>\n",
       "      <td>0.049475</td>\n",
       "    </tr>\n",
       "    <tr>\n",
       "      <th>city_development_index</th>\n",
       "      <td>-0.040455</td>\n",
       "      <td>1.000000</td>\n",
       "      <td>0.001920</td>\n",
       "      <td>-0.341665</td>\n",
       "    </tr>\n",
       "    <tr>\n",
       "      <th>training_hours</th>\n",
       "      <td>0.000998</td>\n",
       "      <td>0.001920</td>\n",
       "      <td>1.000000</td>\n",
       "      <td>-0.021577</td>\n",
       "    </tr>\n",
       "    <tr>\n",
       "      <th>target</th>\n",
       "      <td>0.049475</td>\n",
       "      <td>-0.341665</td>\n",
       "      <td>-0.021577</td>\n",
       "      <td>1.000000</td>\n",
       "    </tr>\n",
       "  </tbody>\n",
       "</table>\n",
       "</div>"
      ],
      "text/plain": [
       "                        enrollee_id  city_development_index  training_hours  \\\n",
       "enrollee_id                1.000000               -0.040455        0.000998   \n",
       "city_development_index    -0.040455                1.000000        0.001920   \n",
       "training_hours             0.000998                0.001920        1.000000   \n",
       "target                     0.049475               -0.341665       -0.021577   \n",
       "\n",
       "                          target  \n",
       "enrollee_id             0.049475  \n",
       "city_development_index -0.341665  \n",
       "training_hours         -0.021577  \n",
       "target                  1.000000  "
      ]
     },
     "execution_count": 7,
     "metadata": {},
     "output_type": "execute_result"
    }
   ],
   "source": [
    "dataset.corr()"
   ]
  },
  {
   "cell_type": "markdown",
   "id": "short-climate",
   "metadata": {},
   "source": [
    "# \"Data Visualization For (Data_Train)\""
   ]
  },
  {
   "cell_type": "code",
   "execution_count": 8,
   "id": "indie-electron",
   "metadata": {},
   "outputs": [
    {
     "name": "stderr",
     "output_type": "stream",
     "text": [
      "C:\\Users\\mahmo\\.conda\\envs\\ML\\lib\\site-packages\\seaborn\\_decorators.py:36: FutureWarning: Pass the following variable as a keyword arg: x. From version 0.12, the only valid positional argument will be `data`, and passing other arguments without an explicit keyword will result in an error or misinterpretation.\n",
      "  warnings.warn(\n"
     ]
    },
    {
     "data": {
      "text/plain": [
       "<AxesSubplot:xlabel='city', ylabel='count'>"
      ]
     },
     "execution_count": 8,
     "metadata": {},
     "output_type": "execute_result"
    },
    {
     "data": {
      "image/png": "[encoded data removed]",
      "text/plain": [
       "<Figure size 432x288 with 1 Axes>"
      ]
     },
     "metadata": {},
     "output_type": "display_data"
    }
   ],
   "source": [
    "sns.countplot (dataset['city'])"
   ]
  },
  {
   "cell_type": "code",
   "execution_count": 9,
   "id": "chinese-carter",
   "metadata": {},
   "outputs": [
    {
     "name": "stderr",
     "output_type": "stream",
     "text": [
      "C:\\Users\\mahmo\\.conda\\envs\\ML\\lib\\site-packages\\seaborn\\_decorators.py:36: FutureWarning: Pass the following variable as a keyword arg: x. From version 0.12, the only valid positional argument will be `data`, and passing other arguments without an explicit keyword will result in an error or misinterpretation.\n",
      "  warnings.warn(\n"
     ]
    },
    {
     "data": {
      "text/plain": [
       "<AxesSubplot:xlabel='city_development_index', ylabel='count'>"
      ]
     },
     "execution_count": 9,
     "metadata": {},
     "output_type": "execute_result"
    },
    {
     "data": {
      "image/png": "[encoded data removed]",
      "text/plain": [
       "<Figure size 432x288 with 1 Axes>"
      ]
     },
     "metadata": {},
     "output_type": "display_data"
    }
   ],
   "source": [
    "sns.countplot (dataset['city_development_index'])"
   ]
  },
  {
   "cell_type": "code",
   "execution_count": 10,
   "id": "composed-kitchen",
   "metadata": {},
   "outputs": [
    {
     "name": "stderr",
     "output_type": "stream",
     "text": [
      "C:\\Users\\mahmo\\.conda\\envs\\ML\\lib\\site-packages\\seaborn\\_decorators.py:36: FutureWarning: Pass the following variable as a keyword arg: x. From version 0.12, the only valid positional argument will be `data`, and passing other arguments without an explicit keyword will result in an error or misinterpretation.\n",
      "  warnings.warn(\n"
     ]
    },
    {
     "data": {
      "text/plain": [
       "<AxesSubplot:xlabel='gender', ylabel='count'>"
      ]
     },
     "execution_count": 10,
     "metadata": {},
     "output_type": "execute_result"
    },
    {
     "data": {
      "image/png": "[encoded data removed]",
      "text/plain": [
       "<Figure size 432x288 with 1 Axes>"
      ]
     },
     "metadata": {},
     "output_type": "display_data"
    }
   ],
   "source": [
    "sns.countplot (dataset['gender'])"
   ]
  },
  {
   "cell_type": "code",
   "execution_count": 11,
   "id": "awful-economy",
   "metadata": {},
   "outputs": [
    {
     "name": "stderr",
     "output_type": "stream",
     "text": [
      "C:\\Users\\mahmo\\.conda\\envs\\ML\\lib\\site-packages\\seaborn\\_decorators.py:36: FutureWarning: Pass the following variable as a keyword arg: x. From version 0.12, the only valid positional argument will be `data`, and passing other arguments without an explicit keyword will result in an error or misinterpretation.\n",
      "  warnings.warn(\n"
     ]
    },
    {
     "data": {
      "text/plain": [
       "<AxesSubplot:xlabel='relevent_experience', ylabel='count'>"
      ]
     },
     "execution_count": 11,
     "metadata": {},
     "output_type": "execute_result"
    },
    {
     "data": {
      "image/png": "[encoded data removed]",
      "text/plain": [
       "<Figure size 432x288 with 1 Axes>"
      ]
     },
     "metadata": {},
     "output_type": "display_data"
    }
   ],
   "source": [
    "sns.countplot (dataset['relevent_experience'])"
   ]
  },
  {
   "cell_type": "code",
   "execution_count": 12,
   "id": "precious-wedding",
   "metadata": {},
   "outputs": [
    {
     "name": "stderr",
     "output_type": "stream",
     "text": [
      "C:\\Users\\mahmo\\.conda\\envs\\ML\\lib\\site-packages\\seaborn\\_decorators.py:36: FutureWarning: Pass the following variable as a keyword arg: x. From version 0.12, the only valid positional argument will be `data`, and passing other arguments without an explicit keyword will result in an error or misinterpretation.\n",
      "  warnings.warn(\n"
     ]
    },
    {
     "data": {
      "text/plain": [
       "<AxesSubplot:xlabel='enrolled_university', ylabel='count'>"
      ]
     },
     "execution_count": 12,
     "metadata": {},
     "output_type": "execute_result"
    },
    {
     "data": {
      "image/png": "[encoded data removed]",
      "text/plain": [
       "<Figure size 432x288 with 1 Axes>"
      ]
     },
     "metadata": {},
     "output_type": "display_data"
    }
   ],
   "source": [
    "sns.countplot (dataset['enrolled_university'])"
   ]
  },
  {
   "cell_type": "code",
   "execution_count": 13,
   "id": "practical-transition",
   "metadata": {},
   "outputs": [
    {
     "name": "stderr",
     "output_type": "stream",
     "text": [
      "C:\\Users\\mahmo\\.conda\\envs\\ML\\lib\\site-packages\\seaborn\\_decorators.py:36: FutureWarning: Pass the following variable as a keyword arg: x. From version 0.12, the only valid positional argument will be `data`, and passing other arguments without an explicit keyword will result in an error or misinterpretation.\n",
      "  warnings.warn(\n"
     ]
    },
    {
     "data": {
      "text/plain": [
       "<AxesSubplot:xlabel='education_level', ylabel='count'>"
      ]
     },
     "execution_count": 13,
     "metadata": {},
     "output_type": "execute_result"
    },
    {
     "data": {
      "image/png": "[encoded data removed]",
      "text/plain": [
       "<Figure size 432x288 with 1 Axes>"
      ]
     },
     "metadata": {},
     "output_type": "display_data"
    }
   ],
   "source": [
    "sns.countplot (dataset['education_level'])"
   ]
  },
  {
   "cell_type": "code",
   "execution_count": 14,
   "id": "simplified-trial",
   "metadata": {},
   "outputs": [
    {
     "name": "stderr",
     "output_type": "stream",
     "text": [
      "C:\\Users\\mahmo\\.conda\\envs\\ML\\lib\\site-packages\\seaborn\\_decorators.py:36: FutureWarning: Pass the following variable as a keyword arg: x. From version 0.12, the only valid positional argument will be `data`, and passing other arguments without an explicit keyword will result in an error or misinterpretation.\n",
      "  warnings.warn(\n"
     ]
    },
    {
     "data": {
      "text/plain": [
       "<AxesSubplot:xlabel='major_discipline', ylabel='count'>"
      ]
     },
     "execution_count": 14,
     "metadata": {},
     "output_type": "execute_result"
    },
    {
     "data": {
      "image/png": "[encoded data removed]",
      "text/plain": [
       "<Figure size 432x288 with 1 Axes>"
      ]
     },
     "metadata": {},
     "output_type": "display_data"
    }
   ],
   "source": [
    "sns.countplot (dataset['major_discipline'])"
   ]
  },
  {
   "cell_type": "code",
   "execution_count": 15,
   "id": "substantial-bahamas",
   "metadata": {},
   "outputs": [
    {
     "name": "stderr",
     "output_type": "stream",
     "text": [
      "C:\\Users\\mahmo\\.conda\\envs\\ML\\lib\\site-packages\\seaborn\\_decorators.py:36: FutureWarning: Pass the following variable as a keyword arg: x. From version 0.12, the only valid positional argument will be `data`, and passing other arguments without an explicit keyword will result in an error or misinterpretation.\n",
      "  warnings.warn(\n"
     ]
    },
    {
     "data": {
      "text/plain": [
       "<AxesSubplot:xlabel='experience', ylabel='count'>"
      ]
     },
     "execution_count": 15,
     "metadata": {},
     "output_type": "execute_result"
    },
    {
     "data": {
      "image/png": "[encoded data removed]",
      "text/plain": [
       "<Figure size 432x288 with 1 Axes>"
      ]
     },
     "metadata": {},
     "output_type": "display_data"
    }
   ],
   "source": [
    "sns.countplot (dataset['experience'])"
   ]
  },
  {
   "cell_type": "code",
   "execution_count": 16,
   "id": "insured-median",
   "metadata": {},
   "outputs": [
    {
     "name": "stderr",
     "output_type": "stream",
     "text": [
      "C:\\Users\\mahmo\\.conda\\envs\\ML\\lib\\site-packages\\seaborn\\_decorators.py:36: FutureWarning: Pass the following variable as a keyword arg: x. From version 0.12, the only valid positional argument will be `data`, and passing other arguments without an explicit keyword will result in an error or misinterpretation.\n",
      "  warnings.warn(\n"
     ]
    },
    {
     "data": {
      "text/plain": [
       "<AxesSubplot:xlabel='company_size', ylabel='count'>"
      ]
     },
     "execution_count": 16,
     "metadata": {},
     "output_type": "execute_result"
    },
    {
     "data": {
      "image/png": "[encoded data removed]",
      "text/plain": [
       "<Figure size 432x288 with 1 Axes>"
      ]
     },
     "metadata": {},
     "output_type": "display_data"
    }
   ],
   "source": [
    "sns.countplot (dataset['company_size'])"
   ]
  },
  {
   "cell_type": "code",
   "execution_count": 17,
   "id": "equipped-destiny",
   "metadata": {},
   "outputs": [
    {
     "name": "stderr",
     "output_type": "stream",
     "text": [
      "C:\\Users\\mahmo\\.conda\\envs\\ML\\lib\\site-packages\\seaborn\\_decorators.py:36: FutureWarning: Pass the following variable as a keyword arg: x. From version 0.12, the only valid positional argument will be `data`, and passing other arguments without an explicit keyword will result in an error or misinterpretation.\n",
      "  warnings.warn(\n"
     ]
    },
    {
     "data": {
      "text/plain": [
       "<AxesSubplot:xlabel='company_type', ylabel='count'>"
      ]
     },
     "execution_count": 17,
     "metadata": {},
     "output_type": "execute_result"
    },
    {
     "data": {
      "image/png": "[encoded data removed]",
      "text/plain": [
       "<Figure size 432x288 with 1 Axes>"
      ]
     },
     "metadata": {},
     "output_type": "display_data"
    }
   ],
   "source": [
    "sns.countplot (dataset['company_type'])"
   ]
  },
  {
   "cell_type": "code",
   "execution_count": 18,
   "id": "still-commodity",
   "metadata": {},
   "outputs": [
    {
     "name": "stderr",
     "output_type": "stream",
     "text": [
      "C:\\Users\\mahmo\\.conda\\envs\\ML\\lib\\site-packages\\seaborn\\_decorators.py:36: FutureWarning: Pass the following variable as a keyword arg: x. From version 0.12, the only valid positional argument will be `data`, and passing other arguments without an explicit keyword will result in an error or misinterpretation.\n",
      "  warnings.warn(\n"
     ]
    },
    {
     "data": {
      "text/plain": [
       "<AxesSubplot:xlabel='last_new_job', ylabel='count'>"
      ]
     },
     "execution_count": 18,
     "metadata": {},
     "output_type": "execute_result"
    },
    {
     "data": {
      "image/png": "[encoded data removed]",
      "text/plain": [
       "<Figure size 432x288 with 1 Axes>"
      ]
     },
     "metadata": {},
     "output_type": "display_data"
    }
   ],
   "source": [
    "sns.countplot (dataset['last_new_job'])"
   ]
  },
  {
   "cell_type": "code",
   "execution_count": 19,
   "id": "adjacent-steering",
   "metadata": {},
   "outputs": [
    {
     "name": "stderr",
     "output_type": "stream",
     "text": [
      "C:\\Users\\mahmo\\.conda\\envs\\ML\\lib\\site-packages\\seaborn\\_decorators.py:36: FutureWarning: Pass the following variable as a keyword arg: x. From version 0.12, the only valid positional argument will be `data`, and passing other arguments without an explicit keyword will result in an error or misinterpretation.\n",
      "  warnings.warn(\n"
     ]
    },
    {
     "data": {
      "text/plain": [
       "<AxesSubplot:xlabel='training_hours', ylabel='count'>"
      ]
     },
     "execution_count": 19,
     "metadata": {},
     "output_type": "execute_result"
    },
    {
     "data": {
      "image/png": "[encoded data removed]",
      "text/plain": [
       "<Figure size 432x288 with 1 Axes>"
      ]
     },
     "metadata": {},
     "output_type": "display_data"
    }
   ],
   "source": [
    "#plt.figure(figsize=(20, 15))\n",
    "sns.countplot (dataset['training_hours'])"
   ]
  },
  {
   "cell_type": "markdown",
   "id": "impaired-india",
   "metadata": {},
   "source": [
    "# \"Data Splitting From (Data_Train) To (X_Train & Y_Train)\""
   ]
  },
  {
   "cell_type": "code",
   "execution_count": 20,
   "id": "agreed-refrigerator",
   "metadata": {},
   "outputs": [
    {
     "data": {
      "text/plain": [
       "array([[8949, 'city_103', 0.92, ..., nan, '1', 36],\n",
       "       [29725, 'city_40', 0.7759999999999999, ..., 'Pvt Ltd', '>4', 47],\n",
       "       [11561, 'city_21', 0.624, ..., nan, 'never', 83],\n",
       "       ...,\n",
       "       [24576, 'city_103', 0.92, ..., 'Pvt Ltd', '4', 44],\n",
       "       [5756, 'city_65', 0.802, ..., 'Pvt Ltd', '2', 97],\n",
       "       [23834, 'city_67', 0.855, ..., nan, '1', 127]], dtype=object)"
      ]
     },
     "execution_count": 20,
     "metadata": {},
     "output_type": "execute_result"
    }
   ],
   "source": [
    "x = dataset.iloc[:,:-1].values\n",
    "x"
   ]
  },
  {
   "cell_type": "code",
   "execution_count": 21,
   "id": "logical-relief",
   "metadata": {},
   "outputs": [
    {
     "data": {
      "text/plain": [
       "array([1., 0., 0., ..., 0., 0., 0.])"
      ]
     },
     "execution_count": 21,
     "metadata": {},
     "output_type": "execute_result"
    }
   ],
   "source": [
    "y = dataset.iloc[:,-1].values\n",
    "y"
   ]
  },
  {
   "cell_type": "markdown",
   "id": "infinite-leather",
   "metadata": {},
   "source": [
    "# \"Processing Missing Data By SimpleImputer In (Data Train)\""
   ]
  },
  {
   "cell_type": "code",
   "execution_count": 22,
   "id": "younger-directive",
   "metadata": {},
   "outputs": [],
   "source": [
    "imputer = SimpleImputer (missing_values = np.NaN , strategy = 'most_frequent')\n",
    "imputer = imputer.fit(x[:,:])\n",
    "x[:,:] = imputer.transform(x[:,:])"
   ]
  },
  {
   "cell_type": "code",
   "execution_count": 23,
   "id": "minute-check",
   "metadata": {},
   "outputs": [
    {
     "data": {
      "text/html": [
       "<div>\n",
       "<style scoped>\n",
       "    .dataframe tbody tr th:only-of-type {\n",
       "        vertical-align: middle;\n",
       "    }\n",
       "\n",
       "    .dataframe tbody tr th {\n",
       "        vertical-align: top;\n",
       "    }\n",
       "\n",
       "    .dataframe thead th {\n",
       "        text-align: right;\n",
       "    }\n",
       "</style>\n",
       "<table border=\"1\" class=\"dataframe\">\n",
       "  <thead>\n",
       "    <tr style=\"text-align: right;\">\n",
       "      <th></th>\n",
       "      <th>enrollee_id</th>\n",
       "      <th>city</th>\n",
       "      <th>city_development_index</th>\n",
       "      <th>gender</th>\n",
       "      <th>relevent_experience</th>\n",
       "      <th>enrolled_university</th>\n",
       "      <th>education_level</th>\n",
       "      <th>major_discipline</th>\n",
       "      <th>experience</th>\n",
       "      <th>company_size</th>\n",
       "      <th>company_type</th>\n",
       "      <th>last_new_job</th>\n",
       "      <th>training_hours</th>\n",
       "    </tr>\n",
       "  </thead>\n",
       "  <tbody>\n",
       "    <tr>\n",
       "      <th>0</th>\n",
       "      <td>8949</td>\n",
       "      <td>city_103</td>\n",
       "      <td>0.92</td>\n",
       "      <td>Male</td>\n",
       "      <td>Has relevent experience</td>\n",
       "      <td>no_enrollment</td>\n",
       "      <td>Graduate</td>\n",
       "      <td>STEM</td>\n",
       "      <td>&gt;20</td>\n",
       "      <td>50-99</td>\n",
       "      <td>Pvt Ltd</td>\n",
       "      <td>1</td>\n",
       "      <td>36</td>\n",
       "    </tr>\n",
       "    <tr>\n",
       "      <th>1</th>\n",
       "      <td>29725</td>\n",
       "      <td>city_40</td>\n",
       "      <td>0.776</td>\n",
       "      <td>Male</td>\n",
       "      <td>No relevent experience</td>\n",
       "      <td>no_enrollment</td>\n",
       "      <td>Graduate</td>\n",
       "      <td>STEM</td>\n",
       "      <td>15</td>\n",
       "      <td>50-99</td>\n",
       "      <td>Pvt Ltd</td>\n",
       "      <td>&gt;4</td>\n",
       "      <td>47</td>\n",
       "    </tr>\n",
       "    <tr>\n",
       "      <th>2</th>\n",
       "      <td>11561</td>\n",
       "      <td>city_21</td>\n",
       "      <td>0.624</td>\n",
       "      <td>Male</td>\n",
       "      <td>No relevent experience</td>\n",
       "      <td>Full time course</td>\n",
       "      <td>Graduate</td>\n",
       "      <td>STEM</td>\n",
       "      <td>5</td>\n",
       "      <td>50-99</td>\n",
       "      <td>Pvt Ltd</td>\n",
       "      <td>never</td>\n",
       "      <td>83</td>\n",
       "    </tr>\n",
       "    <tr>\n",
       "      <th>3</th>\n",
       "      <td>33241</td>\n",
       "      <td>city_115</td>\n",
       "      <td>0.789</td>\n",
       "      <td>Male</td>\n",
       "      <td>No relevent experience</td>\n",
       "      <td>no_enrollment</td>\n",
       "      <td>Graduate</td>\n",
       "      <td>Business Degree</td>\n",
       "      <td>&lt;1</td>\n",
       "      <td>50-99</td>\n",
       "      <td>Pvt Ltd</td>\n",
       "      <td>never</td>\n",
       "      <td>52</td>\n",
       "    </tr>\n",
       "    <tr>\n",
       "      <th>4</th>\n",
       "      <td>666</td>\n",
       "      <td>city_162</td>\n",
       "      <td>0.767</td>\n",
       "      <td>Male</td>\n",
       "      <td>Has relevent experience</td>\n",
       "      <td>no_enrollment</td>\n",
       "      <td>Masters</td>\n",
       "      <td>STEM</td>\n",
       "      <td>&gt;20</td>\n",
       "      <td>50-99</td>\n",
       "      <td>Funded Startup</td>\n",
       "      <td>4</td>\n",
       "      <td>8</td>\n",
       "    </tr>\n",
       "    <tr>\n",
       "      <th>...</th>\n",
       "      <td>...</td>\n",
       "      <td>...</td>\n",
       "      <td>...</td>\n",
       "      <td>...</td>\n",
       "      <td>...</td>\n",
       "      <td>...</td>\n",
       "      <td>...</td>\n",
       "      <td>...</td>\n",
       "      <td>...</td>\n",
       "      <td>...</td>\n",
       "      <td>...</td>\n",
       "      <td>...</td>\n",
       "      <td>...</td>\n",
       "    </tr>\n",
       "    <tr>\n",
       "      <th>19153</th>\n",
       "      <td>7386</td>\n",
       "      <td>city_173</td>\n",
       "      <td>0.878</td>\n",
       "      <td>Male</td>\n",
       "      <td>No relevent experience</td>\n",
       "      <td>no_enrollment</td>\n",
       "      <td>Graduate</td>\n",
       "      <td>Humanities</td>\n",
       "      <td>14</td>\n",
       "      <td>50-99</td>\n",
       "      <td>Pvt Ltd</td>\n",
       "      <td>1</td>\n",
       "      <td>42</td>\n",
       "    </tr>\n",
       "    <tr>\n",
       "      <th>19154</th>\n",
       "      <td>31398</td>\n",
       "      <td>city_103</td>\n",
       "      <td>0.92</td>\n",
       "      <td>Male</td>\n",
       "      <td>Has relevent experience</td>\n",
       "      <td>no_enrollment</td>\n",
       "      <td>Graduate</td>\n",
       "      <td>STEM</td>\n",
       "      <td>14</td>\n",
       "      <td>50-99</td>\n",
       "      <td>Pvt Ltd</td>\n",
       "      <td>4</td>\n",
       "      <td>52</td>\n",
       "    </tr>\n",
       "    <tr>\n",
       "      <th>19155</th>\n",
       "      <td>24576</td>\n",
       "      <td>city_103</td>\n",
       "      <td>0.92</td>\n",
       "      <td>Male</td>\n",
       "      <td>Has relevent experience</td>\n",
       "      <td>no_enrollment</td>\n",
       "      <td>Graduate</td>\n",
       "      <td>STEM</td>\n",
       "      <td>&gt;20</td>\n",
       "      <td>50-99</td>\n",
       "      <td>Pvt Ltd</td>\n",
       "      <td>4</td>\n",
       "      <td>44</td>\n",
       "    </tr>\n",
       "    <tr>\n",
       "      <th>19156</th>\n",
       "      <td>5756</td>\n",
       "      <td>city_65</td>\n",
       "      <td>0.802</td>\n",
       "      <td>Male</td>\n",
       "      <td>Has relevent experience</td>\n",
       "      <td>no_enrollment</td>\n",
       "      <td>High School</td>\n",
       "      <td>STEM</td>\n",
       "      <td>&lt;1</td>\n",
       "      <td>500-999</td>\n",
       "      <td>Pvt Ltd</td>\n",
       "      <td>2</td>\n",
       "      <td>97</td>\n",
       "    </tr>\n",
       "    <tr>\n",
       "      <th>19157</th>\n",
       "      <td>23834</td>\n",
       "      <td>city_67</td>\n",
       "      <td>0.855</td>\n",
       "      <td>Male</td>\n",
       "      <td>No relevent experience</td>\n",
       "      <td>no_enrollment</td>\n",
       "      <td>Primary School</td>\n",
       "      <td>STEM</td>\n",
       "      <td>2</td>\n",
       "      <td>50-99</td>\n",
       "      <td>Pvt Ltd</td>\n",
       "      <td>1</td>\n",
       "      <td>127</td>\n",
       "    </tr>\n",
       "  </tbody>\n",
       "</table>\n",
       "<p>19158 rows × 13 columns</p>\n",
       "</div>"
      ],
      "text/plain": [
       "      enrollee_id      city city_development_index gender  \\\n",
       "0            8949  city_103                   0.92   Male   \n",
       "1           29725   city_40                  0.776   Male   \n",
       "2           11561   city_21                  0.624   Male   \n",
       "3           33241  city_115                  0.789   Male   \n",
       "4             666  city_162                  0.767   Male   \n",
       "...           ...       ...                    ...    ...   \n",
       "19153        7386  city_173                  0.878   Male   \n",
       "19154       31398  city_103                   0.92   Male   \n",
       "19155       24576  city_103                   0.92   Male   \n",
       "19156        5756   city_65                  0.802   Male   \n",
       "19157       23834   city_67                  0.855   Male   \n",
       "\n",
       "           relevent_experience enrolled_university education_level  \\\n",
       "0      Has relevent experience       no_enrollment        Graduate   \n",
       "1       No relevent experience       no_enrollment        Graduate   \n",
       "2       No relevent experience    Full time course        Graduate   \n",
       "3       No relevent experience       no_enrollment        Graduate   \n",
       "4      Has relevent experience       no_enrollment         Masters   \n",
       "...                        ...                 ...             ...   \n",
       "19153   No relevent experience       no_enrollment        Graduate   \n",
       "19154  Has relevent experience       no_enrollment        Graduate   \n",
       "19155  Has relevent experience       no_enrollment        Graduate   \n",
       "19156  Has relevent experience       no_enrollment     High School   \n",
       "19157   No relevent experience       no_enrollment  Primary School   \n",
       "\n",
       "      major_discipline experience company_size    company_type last_new_job  \\\n",
       "0                 STEM        >20        50-99         Pvt Ltd            1   \n",
       "1                 STEM         15        50-99         Pvt Ltd           >4   \n",
       "2                 STEM          5        50-99         Pvt Ltd        never   \n",
       "3      Business Degree         <1        50-99         Pvt Ltd        never   \n",
       "4                 STEM        >20        50-99  Funded Startup            4   \n",
       "...                ...        ...          ...             ...          ...   \n",
       "19153       Humanities         14        50-99         Pvt Ltd            1   \n",
       "19154             STEM         14        50-99         Pvt Ltd            4   \n",
       "19155             STEM        >20        50-99         Pvt Ltd            4   \n",
       "19156             STEM         <1      500-999         Pvt Ltd            2   \n",
       "19157             STEM          2        50-99         Pvt Ltd            1   \n",
       "\n",
       "      training_hours  \n",
       "0                 36  \n",
       "1                 47  \n",
       "2                 83  \n",
       "3                 52  \n",
       "4                  8  \n",
       "...              ...  \n",
       "19153             42  \n",
       "19154             52  \n",
       "19155             44  \n",
       "19156             97  \n",
       "19157            127  \n",
       "\n",
       "[19158 rows x 13 columns]"
      ]
     },
     "execution_count": 23,
     "metadata": {},
     "output_type": "execute_result"
    }
   ],
   "source": [
    "df = pd.DataFrame (x , columns=['enrollee_id','city','city_development_index','gender','relevent_experience','enrolled_university','education_level','major_discipline','experience','company_size','company_type','last_new_job','training_hours'])\n",
    "df"
   ]
  },
  {
   "cell_type": "code",
   "execution_count": 24,
   "id": "considerable-fleet",
   "metadata": {},
   "outputs": [
    {
     "name": "stdout",
     "output_type": "stream",
     "text": [
      "<class 'pandas.core.frame.DataFrame'>\n",
      "RangeIndex: 19158 entries, 0 to 19157\n",
      "Data columns (total 13 columns):\n",
      " #   Column                  Non-Null Count  Dtype \n",
      "---  ------                  --------------  ----- \n",
      " 0   enrollee_id             19158 non-null  object\n",
      " 1   city                    19158 non-null  object\n",
      " 2   city_development_index  19158 non-null  object\n",
      " 3   gender                  19158 non-null  object\n",
      " 4   relevent_experience     19158 non-null  object\n",
      " 5   enrolled_university     19158 non-null  object\n",
      " 6   education_level         19158 non-null  object\n",
      " 7   major_discipline        19158 non-null  object\n",
      " 8   experience              19158 non-null  object\n",
      " 9   company_size            19158 non-null  object\n",
      " 10  company_type            19158 non-null  object\n",
      " 11  last_new_job            19158 non-null  object\n",
      " 12  training_hours          19158 non-null  object\n",
      "dtypes: object(13)\n",
      "memory usage: 1.9+ MB\n"
     ]
    }
   ],
   "source": [
    "df.info()"
   ]
  },
  {
   "cell_type": "markdown",
   "id": "related-livestock",
   "metadata": {},
   "source": [
    "# \"Encoding Data For (Data_Train)\""
   ]
  },
  {
   "cell_type": "code",
   "execution_count": 25,
   "id": "natural-cruise",
   "metadata": {},
   "outputs": [
    {
     "data": {
      "text/html": [
       "<div>\n",
       "<style scoped>\n",
       "    .dataframe tbody tr th:only-of-type {\n",
       "        vertical-align: middle;\n",
       "    }\n",
       "\n",
       "    .dataframe tbody tr th {\n",
       "        vertical-align: top;\n",
       "    }\n",
       "\n",
       "    .dataframe thead th {\n",
       "        text-align: right;\n",
       "    }\n",
       "</style>\n",
       "<table border=\"1\" class=\"dataframe\">\n",
       "  <thead>\n",
       "    <tr style=\"text-align: right;\">\n",
       "      <th></th>\n",
       "      <th>enrollee_id</th>\n",
       "      <th>city</th>\n",
       "      <th>city_development_index</th>\n",
       "      <th>gender</th>\n",
       "      <th>relevent_experience</th>\n",
       "      <th>enrolled_university</th>\n",
       "      <th>education_level</th>\n",
       "      <th>major_discipline</th>\n",
       "      <th>experience</th>\n",
       "      <th>company_size</th>\n",
       "      <th>company_type</th>\n",
       "      <th>last_new_job</th>\n",
       "      <th>training_hours</th>\n",
       "    </tr>\n",
       "  </thead>\n",
       "  <tbody>\n",
       "    <tr>\n",
       "      <th>0</th>\n",
       "      <td>8949</td>\n",
       "      <td>5</td>\n",
       "      <td>0.92</td>\n",
       "      <td>1</td>\n",
       "      <td>0</td>\n",
       "      <td>2</td>\n",
       "      <td>0</td>\n",
       "      <td>5</td>\n",
       "      <td>21</td>\n",
       "      <td>4</td>\n",
       "      <td>5</td>\n",
       "      <td>0</td>\n",
       "      <td>36</td>\n",
       "    </tr>\n",
       "    <tr>\n",
       "      <th>1</th>\n",
       "      <td>29725</td>\n",
       "      <td>77</td>\n",
       "      <td>0.776</td>\n",
       "      <td>1</td>\n",
       "      <td>1</td>\n",
       "      <td>2</td>\n",
       "      <td>0</td>\n",
       "      <td>5</td>\n",
       "      <td>6</td>\n",
       "      <td>4</td>\n",
       "      <td>5</td>\n",
       "      <td>4</td>\n",
       "      <td>47</td>\n",
       "    </tr>\n",
       "    <tr>\n",
       "      <th>2</th>\n",
       "      <td>11561</td>\n",
       "      <td>64</td>\n",
       "      <td>0.624</td>\n",
       "      <td>1</td>\n",
       "      <td>1</td>\n",
       "      <td>0</td>\n",
       "      <td>0</td>\n",
       "      <td>5</td>\n",
       "      <td>15</td>\n",
       "      <td>4</td>\n",
       "      <td>5</td>\n",
       "      <td>5</td>\n",
       "      <td>83</td>\n",
       "    </tr>\n",
       "    <tr>\n",
       "      <th>3</th>\n",
       "      <td>33241</td>\n",
       "      <td>14</td>\n",
       "      <td>0.789</td>\n",
       "      <td>1</td>\n",
       "      <td>1</td>\n",
       "      <td>2</td>\n",
       "      <td>0</td>\n",
       "      <td>1</td>\n",
       "      <td>20</td>\n",
       "      <td>4</td>\n",
       "      <td>5</td>\n",
       "      <td>5</td>\n",
       "      <td>52</td>\n",
       "    </tr>\n",
       "    <tr>\n",
       "      <th>4</th>\n",
       "      <td>666</td>\n",
       "      <td>50</td>\n",
       "      <td>0.767</td>\n",
       "      <td>1</td>\n",
       "      <td>0</td>\n",
       "      <td>2</td>\n",
       "      <td>2</td>\n",
       "      <td>5</td>\n",
       "      <td>21</td>\n",
       "      <td>4</td>\n",
       "      <td>1</td>\n",
       "      <td>3</td>\n",
       "      <td>8</td>\n",
       "    </tr>\n",
       "    <tr>\n",
       "      <th>...</th>\n",
       "      <td>...</td>\n",
       "      <td>...</td>\n",
       "      <td>...</td>\n",
       "      <td>...</td>\n",
       "      <td>...</td>\n",
       "      <td>...</td>\n",
       "      <td>...</td>\n",
       "      <td>...</td>\n",
       "      <td>...</td>\n",
       "      <td>...</td>\n",
       "      <td>...</td>\n",
       "      <td>...</td>\n",
       "      <td>...</td>\n",
       "    </tr>\n",
       "    <tr>\n",
       "      <th>19153</th>\n",
       "      <td>7386</td>\n",
       "      <td>55</td>\n",
       "      <td>0.878</td>\n",
       "      <td>1</td>\n",
       "      <td>1</td>\n",
       "      <td>2</td>\n",
       "      <td>0</td>\n",
       "      <td>2</td>\n",
       "      <td>5</td>\n",
       "      <td>4</td>\n",
       "      <td>5</td>\n",
       "      <td>0</td>\n",
       "      <td>42</td>\n",
       "    </tr>\n",
       "    <tr>\n",
       "      <th>19154</th>\n",
       "      <td>31398</td>\n",
       "      <td>5</td>\n",
       "      <td>0.92</td>\n",
       "      <td>1</td>\n",
       "      <td>0</td>\n",
       "      <td>2</td>\n",
       "      <td>0</td>\n",
       "      <td>5</td>\n",
       "      <td>5</td>\n",
       "      <td>4</td>\n",
       "      <td>5</td>\n",
       "      <td>3</td>\n",
       "      <td>52</td>\n",
       "    </tr>\n",
       "    <tr>\n",
       "      <th>19155</th>\n",
       "      <td>24576</td>\n",
       "      <td>5</td>\n",
       "      <td>0.92</td>\n",
       "      <td>1</td>\n",
       "      <td>0</td>\n",
       "      <td>2</td>\n",
       "      <td>0</td>\n",
       "      <td>5</td>\n",
       "      <td>21</td>\n",
       "      <td>4</td>\n",
       "      <td>5</td>\n",
       "      <td>3</td>\n",
       "      <td>44</td>\n",
       "    </tr>\n",
       "    <tr>\n",
       "      <th>19156</th>\n",
       "      <td>5756</td>\n",
       "      <td>94</td>\n",
       "      <td>0.802</td>\n",
       "      <td>1</td>\n",
       "      <td>0</td>\n",
       "      <td>2</td>\n",
       "      <td>1</td>\n",
       "      <td>5</td>\n",
       "      <td>20</td>\n",
       "      <td>5</td>\n",
       "      <td>5</td>\n",
       "      <td>1</td>\n",
       "      <td>97</td>\n",
       "    </tr>\n",
       "    <tr>\n",
       "      <th>19157</th>\n",
       "      <td>23834</td>\n",
       "      <td>95</td>\n",
       "      <td>0.855</td>\n",
       "      <td>1</td>\n",
       "      <td>1</td>\n",
       "      <td>2</td>\n",
       "      <td>4</td>\n",
       "      <td>5</td>\n",
       "      <td>11</td>\n",
       "      <td>4</td>\n",
       "      <td>5</td>\n",
       "      <td>0</td>\n",
       "      <td>127</td>\n",
       "    </tr>\n",
       "  </tbody>\n",
       "</table>\n",
       "<p>19158 rows × 13 columns</p>\n",
       "</div>"
      ],
      "text/plain": [
       "      enrollee_id  city city_development_index  gender  relevent_experience  \\\n",
       "0            8949     5                   0.92       1                    0   \n",
       "1           29725    77                  0.776       1                    1   \n",
       "2           11561    64                  0.624       1                    1   \n",
       "3           33241    14                  0.789       1                    1   \n",
       "4             666    50                  0.767       1                    0   \n",
       "...           ...   ...                    ...     ...                  ...   \n",
       "19153        7386    55                  0.878       1                    1   \n",
       "19154       31398     5                   0.92       1                    0   \n",
       "19155       24576     5                   0.92       1                    0   \n",
       "19156        5756    94                  0.802       1                    0   \n",
       "19157       23834    95                  0.855       1                    1   \n",
       "\n",
       "       enrolled_university  education_level  major_discipline  experience  \\\n",
       "0                        2                0                 5          21   \n",
       "1                        2                0                 5           6   \n",
       "2                        0                0                 5          15   \n",
       "3                        2                0                 1          20   \n",
       "4                        2                2                 5          21   \n",
       "...                    ...              ...               ...         ...   \n",
       "19153                    2                0                 2           5   \n",
       "19154                    2                0                 5           5   \n",
       "19155                    2                0                 5          21   \n",
       "19156                    2                1                 5          20   \n",
       "19157                    2                4                 5          11   \n",
       "\n",
       "       company_size  company_type  last_new_job training_hours  \n",
       "0                 4             5             0             36  \n",
       "1                 4             5             4             47  \n",
       "2                 4             5             5             83  \n",
       "3                 4             5             5             52  \n",
       "4                 4             1             3              8  \n",
       "...             ...           ...           ...            ...  \n",
       "19153             4             5             0             42  \n",
       "19154             4             5             3             52  \n",
       "19155             4             5             3             44  \n",
       "19156             5             5             1             97  \n",
       "19157             4             5             0            127  \n",
       "\n",
       "[19158 rows x 13 columns]"
      ]
     },
     "execution_count": 25,
     "metadata": {},
     "output_type": "execute_result"
    }
   ],
   "source": [
    "LE = LabelEncoder()\n",
    "df['city'] = LE.fit_transform(df['city'])\n",
    "df['gender'] = LE.fit_transform(df['gender'])\n",
    "df['relevent_experience'] = LE.fit_transform(df['relevent_experience'])\n",
    "df['enrolled_university'] = LE.fit_transform(df['enrolled_university'])\n",
    "df['education_level'] = LE.fit_transform(df['education_level'])\n",
    "df['major_discipline'] = LE.fit_transform(df['major_discipline'])\n",
    "df['experience'] = LE.fit_transform(df['experience'])\n",
    "df['company_size'] = LE.fit_transform(df['company_size'])\n",
    "df['company_type'] = LE.fit_transform(df['company_type'])\n",
    "df['last_new_job'] = LE.fit_transform(df['last_new_job'])\n",
    "df"
   ]
  },
  {
   "cell_type": "code",
   "execution_count": 26,
   "id": "polyphonic-there",
   "metadata": {},
   "outputs": [
    {
     "data": {
      "text/plain": [
       "enrollee_id               19158\n",
       "city                        123\n",
       "city_development_index       93\n",
       "gender                        3\n",
       "relevent_experience           2\n",
       "enrolled_university           3\n",
       "education_level               5\n",
       "major_discipline              6\n",
       "experience                   22\n",
       "company_size                  8\n",
       "company_type                  6\n",
       "last_new_job                  6\n",
       "training_hours              241\n",
       "dtype: int64"
      ]
     },
     "execution_count": 26,
     "metadata": {},
     "output_type": "execute_result"
    }
   ],
   "source": [
    "df.nunique()"
   ]
  },
  {
   "cell_type": "markdown",
   "id": "standard-particle",
   "metadata": {},
   "source": [
    "# \" Scaling Data By Standard Scaler in df_train \""
   ]
  },
  {
   "cell_type": "code",
   "execution_count": 27,
   "id": "celtic-seattle",
   "metadata": {},
   "outputs": [
    {
     "data": {
      "text/plain": [
       "array([[8949, 5, 0.92, ..., 5, 0, 36],\n",
       "       [29725, 77, 0.7759999999999999, ..., 5, 4, 47],\n",
       "       [11561, 64, 0.624, ..., 5, 5, 83],\n",
       "       ...,\n",
       "       [24576, 5, 0.92, ..., 5, 3, 44],\n",
       "       [5756, 94, 0.802, ..., 5, 1, 97],\n",
       "       [23834, 95, 0.855, ..., 5, 0, 127]], dtype=object)"
      ]
     },
     "execution_count": 27,
     "metadata": {},
     "output_type": "execute_result"
    }
   ],
   "source": [
    "data = np.array(df) \n",
    "data"
   ]
  },
  {
   "cell_type": "code",
   "execution_count": 28,
   "id": "choice-atlanta",
   "metadata": {},
   "outputs": [],
   "source": [
    "SC = StandardScaler()\n",
    "data[:,:] = SC.fit_transform(data[:,:])"
   ]
  },
  {
   "cell_type": "code",
   "execution_count": 29,
   "id": "bound-cotton",
   "metadata": {},
   "outputs": [
    {
     "data": {
      "text/html": [
       "<div>\n",
       "<style scoped>\n",
       "    .dataframe tbody tr th:only-of-type {\n",
       "        vertical-align: middle;\n",
       "    }\n",
       "\n",
       "    .dataframe tbody tr th {\n",
       "        vertical-align: top;\n",
       "    }\n",
       "\n",
       "    .dataframe thead th {\n",
       "        text-align: right;\n",
       "    }\n",
       "</style>\n",
       "<table border=\"1\" class=\"dataframe\">\n",
       "  <thead>\n",
       "    <tr style=\"text-align: right;\">\n",
       "      <th></th>\n",
       "      <th>enrollee_id</th>\n",
       "      <th>city</th>\n",
       "      <th>city_development_index</th>\n",
       "      <th>gender</th>\n",
       "      <th>relevent_experience</th>\n",
       "      <th>enrolled_university</th>\n",
       "      <th>education_level</th>\n",
       "      <th>major_discipline</th>\n",
       "      <th>experience</th>\n",
       "      <th>company_size</th>\n",
       "      <th>company_type</th>\n",
       "      <th>last_new_job</th>\n",
       "      <th>training_hours</th>\n",
       "    </tr>\n",
       "  </thead>\n",
       "  <tbody>\n",
       "    <tr>\n",
       "      <th>0</th>\n",
       "      <td>-0.824285</td>\n",
       "      <td>-1.105203</td>\n",
       "      <td>0.738919</td>\n",
       "      <td>0.204235</td>\n",
       "      <td>-0.623752</td>\n",
       "      <td>0.568358</td>\n",
       "      <td>-0.692508</td>\n",
       "      <td>0.296787</td>\n",
       "      <td>1.219489</td>\n",
       "      <td>0.361261</td>\n",
       "      <td>0.393556</td>\n",
       "      <td>-0.902189</td>\n",
       "      <td>-0.488985</td>\n",
       "    </tr>\n",
       "    <tr>\n",
       "      <th>1</th>\n",
       "      <td>1.336271</td>\n",
       "      <td>0.925077</td>\n",
       "      <td>-0.42841</td>\n",
       "      <td>0.204235</td>\n",
       "      <td>1.603202</td>\n",
       "      <td>0.568358</td>\n",
       "      <td>-0.692508</td>\n",
       "      <td>0.296787</td>\n",
       "      <td>-1.050773</td>\n",
       "      <td>0.361261</td>\n",
       "      <td>0.393556</td>\n",
       "      <td>1.164364</td>\n",
       "      <td>-0.305825</td>\n",
       "    </tr>\n",
       "    <tr>\n",
       "      <th>2</th>\n",
       "      <td>-0.552655</td>\n",
       "      <td>0.558499</td>\n",
       "      <td>-1.66059</td>\n",
       "      <td>0.204235</td>\n",
       "      <td>1.603202</td>\n",
       "      <td>-1.931321</td>\n",
       "      <td>-0.692508</td>\n",
       "      <td>0.296787</td>\n",
       "      <td>0.311384</td>\n",
       "      <td>0.361261</td>\n",
       "      <td>0.393556</td>\n",
       "      <td>1.681003</td>\n",
       "      <td>0.293607</td>\n",
       "    </tr>\n",
       "    <tr>\n",
       "      <th>3</th>\n",
       "      <td>1.70191</td>\n",
       "      <td>-0.851418</td>\n",
       "      <td>-0.323026</td>\n",
       "      <td>0.204235</td>\n",
       "      <td>1.603202</td>\n",
       "      <td>0.568358</td>\n",
       "      <td>-0.692508</td>\n",
       "      <td>-3.909499</td>\n",
       "      <td>1.068138</td>\n",
       "      <td>0.361261</td>\n",
       "      <td>0.393556</td>\n",
       "      <td>1.681003</td>\n",
       "      <td>-0.222571</td>\n",
       "    </tr>\n",
       "    <tr>\n",
       "      <th>4</th>\n",
       "      <td>-1.685658</td>\n",
       "      <td>0.163722</td>\n",
       "      <td>-0.501368</td>\n",
       "      <td>0.204235</td>\n",
       "      <td>-0.623752</td>\n",
       "      <td>0.568358</td>\n",
       "      <td>1.315676</td>\n",
       "      <td>0.296787</td>\n",
       "      <td>1.219489</td>\n",
       "      <td>0.361261</td>\n",
       "      <td>-2.690501</td>\n",
       "      <td>0.647726</td>\n",
       "      <td>-0.955209</td>\n",
       "    </tr>\n",
       "    <tr>\n",
       "      <th>...</th>\n",
       "      <td>...</td>\n",
       "      <td>...</td>\n",
       "      <td>...</td>\n",
       "      <td>...</td>\n",
       "      <td>...</td>\n",
       "      <td>...</td>\n",
       "      <td>...</td>\n",
       "      <td>...</td>\n",
       "      <td>...</td>\n",
       "      <td>...</td>\n",
       "      <td>...</td>\n",
       "      <td>...</td>\n",
       "      <td>...</td>\n",
       "    </tr>\n",
       "    <tr>\n",
       "      <th>19153</th>\n",
       "      <td>-0.986826</td>\n",
       "      <td>0.304714</td>\n",
       "      <td>0.398448</td>\n",
       "      <td>0.204235</td>\n",
       "      <td>1.603202</td>\n",
       "      <td>0.568358</td>\n",
       "      <td>-0.692508</td>\n",
       "      <td>-2.857927</td>\n",
       "      <td>-1.202124</td>\n",
       "      <td>0.361261</td>\n",
       "      <td>0.393556</td>\n",
       "      <td>-0.902189</td>\n",
       "      <td>-0.389079</td>\n",
       "    </tr>\n",
       "    <tr>\n",
       "      <th>19154</th>\n",
       "      <td>1.510252</td>\n",
       "      <td>-1.105203</td>\n",
       "      <td>0.738919</td>\n",
       "      <td>0.204235</td>\n",
       "      <td>-0.623752</td>\n",
       "      <td>0.568358</td>\n",
       "      <td>-0.692508</td>\n",
       "      <td>0.296787</td>\n",
       "      <td>-1.202124</td>\n",
       "      <td>0.361261</td>\n",
       "      <td>0.393556</td>\n",
       "      <td>0.647726</td>\n",
       "      <td>-0.222571</td>\n",
       "    </tr>\n",
       "    <tr>\n",
       "      <th>19155</th>\n",
       "      <td>0.800812</td>\n",
       "      <td>-1.105203</td>\n",
       "      <td>0.738919</td>\n",
       "      <td>0.204235</td>\n",
       "      <td>-0.623752</td>\n",
       "      <td>0.568358</td>\n",
       "      <td>-0.692508</td>\n",
       "      <td>0.296787</td>\n",
       "      <td>1.219489</td>\n",
       "      <td>0.361261</td>\n",
       "      <td>0.393556</td>\n",
       "      <td>0.647726</td>\n",
       "      <td>-0.355778</td>\n",
       "    </tr>\n",
       "    <tr>\n",
       "      <th>19156</th>\n",
       "      <td>-1.156334</td>\n",
       "      <td>1.404449</td>\n",
       "      <td>-0.217642</td>\n",
       "      <td>0.204235</td>\n",
       "      <td>-0.623752</td>\n",
       "      <td>0.568358</td>\n",
       "      <td>0.311584</td>\n",
       "      <td>0.296787</td>\n",
       "      <td>1.068138</td>\n",
       "      <td>0.921897</td>\n",
       "      <td>0.393556</td>\n",
       "      <td>-0.385551</td>\n",
       "      <td>0.526719</td>\n",
       "    </tr>\n",
       "    <tr>\n",
       "      <th>19157</th>\n",
       "      <td>0.723649</td>\n",
       "      <td>1.432647</td>\n",
       "      <td>0.212</td>\n",
       "      <td>0.204235</td>\n",
       "      <td>1.603202</td>\n",
       "      <td>0.568358</td>\n",
       "      <td>3.323859</td>\n",
       "      <td>0.296787</td>\n",
       "      <td>-0.294019</td>\n",
       "      <td>0.361261</td>\n",
       "      <td>0.393556</td>\n",
       "      <td>-0.902189</td>\n",
       "      <td>1.026245</td>\n",
       "    </tr>\n",
       "  </tbody>\n",
       "</table>\n",
       "<p>19158 rows × 13 columns</p>\n",
       "</div>"
      ],
      "text/plain": [
       "      enrollee_id      city city_development_index    gender  \\\n",
       "0       -0.824285 -1.105203               0.738919  0.204235   \n",
       "1        1.336271  0.925077               -0.42841  0.204235   \n",
       "2       -0.552655  0.558499               -1.66059  0.204235   \n",
       "3         1.70191 -0.851418              -0.323026  0.204235   \n",
       "4       -1.685658  0.163722              -0.501368  0.204235   \n",
       "...           ...       ...                    ...       ...   \n",
       "19153   -0.986826  0.304714               0.398448  0.204235   \n",
       "19154    1.510252 -1.105203               0.738919  0.204235   \n",
       "19155    0.800812 -1.105203               0.738919  0.204235   \n",
       "19156   -1.156334  1.404449              -0.217642  0.204235   \n",
       "19157    0.723649  1.432647                  0.212  0.204235   \n",
       "\n",
       "      relevent_experience enrolled_university education_level  \\\n",
       "0               -0.623752            0.568358       -0.692508   \n",
       "1                1.603202            0.568358       -0.692508   \n",
       "2                1.603202           -1.931321       -0.692508   \n",
       "3                1.603202            0.568358       -0.692508   \n",
       "4               -0.623752            0.568358        1.315676   \n",
       "...                   ...                 ...             ...   \n",
       "19153            1.603202            0.568358       -0.692508   \n",
       "19154           -0.623752            0.568358       -0.692508   \n",
       "19155           -0.623752            0.568358       -0.692508   \n",
       "19156           -0.623752            0.568358        0.311584   \n",
       "19157            1.603202            0.568358        3.323859   \n",
       "\n",
       "      major_discipline experience company_size company_type last_new_job  \\\n",
       "0             0.296787   1.219489     0.361261     0.393556    -0.902189   \n",
       "1             0.296787  -1.050773     0.361261     0.393556     1.164364   \n",
       "2             0.296787   0.311384     0.361261     0.393556     1.681003   \n",
       "3            -3.909499   1.068138     0.361261     0.393556     1.681003   \n",
       "4             0.296787   1.219489     0.361261    -2.690501     0.647726   \n",
       "...                ...        ...          ...          ...          ...   \n",
       "19153        -2.857927  -1.202124     0.361261     0.393556    -0.902189   \n",
       "19154         0.296787  -1.202124     0.361261     0.393556     0.647726   \n",
       "19155         0.296787   1.219489     0.361261     0.393556     0.647726   \n",
       "19156         0.296787   1.068138     0.921897     0.393556    -0.385551   \n",
       "19157         0.296787  -0.294019     0.361261     0.393556    -0.902189   \n",
       "\n",
       "      training_hours  \n",
       "0          -0.488985  \n",
       "1          -0.305825  \n",
       "2           0.293607  \n",
       "3          -0.222571  \n",
       "4          -0.955209  \n",
       "...              ...  \n",
       "19153      -0.389079  \n",
       "19154      -0.222571  \n",
       "19155      -0.355778  \n",
       "19156       0.526719  \n",
       "19157       1.026245  \n",
       "\n",
       "[19158 rows x 13 columns]"
      ]
     },
     "execution_count": 29,
     "metadata": {},
     "output_type": "execute_result"
    }
   ],
   "source": [
    "df_data_train = pd.DataFrame(data, columns=['enrollee_id','city','city_development_index','gender','relevent_experience','enrolled_university','education_level','major_discipline','experience','company_size','company_type','last_new_job','training_hours'])\n",
    "df_data_train"
   ]
  },
  {
   "cell_type": "markdown",
   "id": "extreme-building",
   "metadata": {},
   "source": [
    "# \"Spliting Data To Training & Testing\""
   ]
  },
  {
   "cell_type": "code",
   "execution_count": 36,
   "id": "pressing-valentine",
   "metadata": {},
   "outputs": [],
   "source": [
    "from sklearn.model_selection import train_test_split\n",
    "x_train,x_test,y_train,y_test = train_test_split (df_data_train ,y ,test_size = 0.2 ,random_state = 0)"
   ]
  },
  {
   "cell_type": "code",
   "execution_count": 37,
   "id": "attached-blanket",
   "metadata": {},
   "outputs": [
    {
     "data": {
      "text/html": [
       "<div>\n",
       "<style scoped>\n",
       "    .dataframe tbody tr th:only-of-type {\n",
       "        vertical-align: middle;\n",
       "    }\n",
       "\n",
       "    .dataframe tbody tr th {\n",
       "        vertical-align: top;\n",
       "    }\n",
       "\n",
       "    .dataframe thead th {\n",
       "        text-align: right;\n",
       "    }\n",
       "</style>\n",
       "<table border=\"1\" class=\"dataframe\">\n",
       "  <thead>\n",
       "    <tr style=\"text-align: right;\">\n",
       "      <th></th>\n",
       "      <th>enrollee_id</th>\n",
       "      <th>city</th>\n",
       "      <th>city_development_index</th>\n",
       "      <th>gender</th>\n",
       "      <th>relevent_experience</th>\n",
       "      <th>enrolled_university</th>\n",
       "      <th>education_level</th>\n",
       "      <th>major_discipline</th>\n",
       "      <th>experience</th>\n",
       "      <th>company_size</th>\n",
       "      <th>company_type</th>\n",
       "      <th>last_new_job</th>\n",
       "      <th>training_hours</th>\n",
       "    </tr>\n",
       "  </thead>\n",
       "  <tbody>\n",
       "    <tr>\n",
       "      <th>19147</th>\n",
       "      <td>0.462107</td>\n",
       "      <td>0.558499</td>\n",
       "      <td>-1.66059</td>\n",
       "      <td>0.204235</td>\n",
       "      <td>1.603202</td>\n",
       "      <td>-1.931321</td>\n",
       "      <td>-0.692508</td>\n",
       "      <td>0.296787</td>\n",
       "      <td>-1.958878</td>\n",
       "      <td>-1.320645</td>\n",
       "      <td>0.393556</td>\n",
       "      <td>-0.902189</td>\n",
       "      <td>-0.222571</td>\n",
       "    </tr>\n",
       "    <tr>\n",
       "      <th>8464</th>\n",
       "      <td>-1.549011</td>\n",
       "      <td>0.558499</td>\n",
       "      <td>-1.66059</td>\n",
       "      <td>0.204235</td>\n",
       "      <td>-0.623752</td>\n",
       "      <td>-1.931321</td>\n",
       "      <td>-0.692508</td>\n",
       "      <td>0.296787</td>\n",
       "      <td>1.068138</td>\n",
       "      <td>2.043168</td>\n",
       "      <td>0.393556</td>\n",
       "      <td>-0.902189</td>\n",
       "      <td>0.443465</td>\n",
       "    </tr>\n",
       "    <tr>\n",
       "      <th>8869</th>\n",
       "      <td>-1.747638</td>\n",
       "      <td>0.107325</td>\n",
       "      <td>0.657855</td>\n",
       "      <td>0.204235</td>\n",
       "      <td>-0.623752</td>\n",
       "      <td>0.568358</td>\n",
       "      <td>1.315676</td>\n",
       "      <td>0.296787</td>\n",
       "      <td>0.916787</td>\n",
       "      <td>0.361261</td>\n",
       "      <td>0.393556</td>\n",
       "      <td>-0.902189</td>\n",
       "      <td>-0.488985</td>\n",
       "    </tr>\n",
       "    <tr>\n",
       "      <th>11645</th>\n",
       "      <td>-0.998577</td>\n",
       "      <td>-0.766823</td>\n",
       "      <td>-0.866158</td>\n",
       "      <td>0.204235</td>\n",
       "      <td>-0.623752</td>\n",
       "      <td>-0.681482</td>\n",
       "      <td>1.315676</td>\n",
       "      <td>0.296787</td>\n",
       "      <td>-1.807527</td>\n",
       "      <td>-0.76001</td>\n",
       "      <td>0.393556</td>\n",
       "      <td>0.131088</td>\n",
       "      <td>-0.77205</td>\n",
       "    </tr>\n",
       "    <tr>\n",
       "      <th>7743</th>\n",
       "      <td>-1.3586</td>\n",
       "      <td>-1.105203</td>\n",
       "      <td>0.738919</td>\n",
       "      <td>0.204235</td>\n",
       "      <td>1.603202</td>\n",
       "      <td>0.568358</td>\n",
       "      <td>3.323859</td>\n",
       "      <td>0.296787</td>\n",
       "      <td>-0.294019</td>\n",
       "      <td>0.361261</td>\n",
       "      <td>0.393556</td>\n",
       "      <td>1.681003</td>\n",
       "      <td>0.060494</td>\n",
       "    </tr>\n",
       "    <tr>\n",
       "      <th>...</th>\n",
       "      <td>...</td>\n",
       "      <td>...</td>\n",
       "      <td>...</td>\n",
       "      <td>...</td>\n",
       "      <td>...</td>\n",
       "      <td>...</td>\n",
       "      <td>...</td>\n",
       "      <td>...</td>\n",
       "      <td>...</td>\n",
       "      <td>...</td>\n",
       "      <td>...</td>\n",
       "      <td>...</td>\n",
       "      <td>...</td>\n",
       "    </tr>\n",
       "    <tr>\n",
       "      <th>9225</th>\n",
       "      <td>1.661145</td>\n",
       "      <td>-0.625831</td>\n",
       "      <td>-2.836026</td>\n",
       "      <td>0.204235</td>\n",
       "      <td>1.603202</td>\n",
       "      <td>-1.931321</td>\n",
       "      <td>-0.692508</td>\n",
       "      <td>0.296787</td>\n",
       "      <td>-1.807527</td>\n",
       "      <td>0.361261</td>\n",
       "      <td>0.393556</td>\n",
       "      <td>1.164364</td>\n",
       "      <td>-0.505635</td>\n",
       "    </tr>\n",
       "    <tr>\n",
       "      <th>13123</th>\n",
       "      <td>1.659169</td>\n",
       "      <td>0.558499</td>\n",
       "      <td>-1.66059</td>\n",
       "      <td>0.204235</td>\n",
       "      <td>-0.623752</td>\n",
       "      <td>0.568358</td>\n",
       "      <td>-0.692508</td>\n",
       "      <td>0.296787</td>\n",
       "      <td>0.462735</td>\n",
       "      <td>0.361261</td>\n",
       "      <td>0.393556</td>\n",
       "      <td>-0.902189</td>\n",
       "      <td>-0.755399</td>\n",
       "    </tr>\n",
       "    <tr>\n",
       "      <th>9845</th>\n",
       "      <td>-1.391358</td>\n",
       "      <td>-1.105203</td>\n",
       "      <td>0.738919</td>\n",
       "      <td>3.941318</td>\n",
       "      <td>-0.623752</td>\n",
       "      <td>0.568358</td>\n",
       "      <td>-0.692508</td>\n",
       "      <td>0.296787</td>\n",
       "      <td>0.462735</td>\n",
       "      <td>0.361261</td>\n",
       "      <td>0.393556</td>\n",
       "      <td>1.681003</td>\n",
       "      <td>-0.289174</td>\n",
       "    </tr>\n",
       "    <tr>\n",
       "      <th>10799</th>\n",
       "      <td>0.268472</td>\n",
       "      <td>0.558499</td>\n",
       "      <td>-1.66059</td>\n",
       "      <td>0.204235</td>\n",
       "      <td>1.603202</td>\n",
       "      <td>0.568358</td>\n",
       "      <td>-0.692508</td>\n",
       "      <td>0.296787</td>\n",
       "      <td>-0.294019</td>\n",
       "      <td>-1.881281</td>\n",
       "      <td>0.393556</td>\n",
       "      <td>-0.902189</td>\n",
       "      <td>0.1604</td>\n",
       "    </tr>\n",
       "    <tr>\n",
       "      <th>2732</th>\n",
       "      <td>0.739352</td>\n",
       "      <td>0.107325</td>\n",
       "      <td>0.657855</td>\n",
       "      <td>0.204235</td>\n",
       "      <td>-0.623752</td>\n",
       "      <td>0.568358</td>\n",
       "      <td>-0.692508</td>\n",
       "      <td>0.296787</td>\n",
       "      <td>-1.504826</td>\n",
       "      <td>0.361261</td>\n",
       "      <td>0.393556</td>\n",
       "      <td>-0.902189</td>\n",
       "      <td>-1.038464</td>\n",
       "    </tr>\n",
       "  </tbody>\n",
       "</table>\n",
       "<p>15326 rows × 13 columns</p>\n",
       "</div>"
      ],
      "text/plain": [
       "      enrollee_id      city city_development_index    gender  \\\n",
       "19147    0.462107  0.558499               -1.66059  0.204235   \n",
       "8464    -1.549011  0.558499               -1.66059  0.204235   \n",
       "8869    -1.747638  0.107325               0.657855  0.204235   \n",
       "11645   -0.998577 -0.766823              -0.866158  0.204235   \n",
       "7743      -1.3586 -1.105203               0.738919  0.204235   \n",
       "...           ...       ...                    ...       ...   \n",
       "9225     1.661145 -0.625831              -2.836026  0.204235   \n",
       "13123    1.659169  0.558499               -1.66059  0.204235   \n",
       "9845    -1.391358 -1.105203               0.738919  3.941318   \n",
       "10799    0.268472  0.558499               -1.66059  0.204235   \n",
       "2732     0.739352  0.107325               0.657855  0.204235   \n",
       "\n",
       "      relevent_experience enrolled_university education_level  \\\n",
       "19147            1.603202           -1.931321       -0.692508   \n",
       "8464            -0.623752           -1.931321       -0.692508   \n",
       "8869            -0.623752            0.568358        1.315676   \n",
       "11645           -0.623752           -0.681482        1.315676   \n",
       "7743             1.603202            0.568358        3.323859   \n",
       "...                   ...                 ...             ...   \n",
       "9225             1.603202           -1.931321       -0.692508   \n",
       "13123           -0.623752            0.568358       -0.692508   \n",
       "9845            -0.623752            0.568358       -0.692508   \n",
       "10799            1.603202            0.568358       -0.692508   \n",
       "2732            -0.623752            0.568358       -0.692508   \n",
       "\n",
       "      major_discipline experience company_size company_type last_new_job  \\\n",
       "19147         0.296787  -1.958878    -1.320645     0.393556    -0.902189   \n",
       "8464          0.296787   1.068138     2.043168     0.393556    -0.902189   \n",
       "8869          0.296787   0.916787     0.361261     0.393556    -0.902189   \n",
       "11645         0.296787  -1.807527     -0.76001     0.393556     0.131088   \n",
       "7743          0.296787  -0.294019     0.361261     0.393556     1.681003   \n",
       "...                ...        ...          ...          ...          ...   \n",
       "9225          0.296787  -1.807527     0.361261     0.393556     1.164364   \n",
       "13123         0.296787   0.462735     0.361261     0.393556    -0.902189   \n",
       "9845          0.296787   0.462735     0.361261     0.393556     1.681003   \n",
       "10799         0.296787  -0.294019    -1.881281     0.393556    -0.902189   \n",
       "2732          0.296787  -1.504826     0.361261     0.393556    -0.902189   \n",
       "\n",
       "      training_hours  \n",
       "19147      -0.222571  \n",
       "8464        0.443465  \n",
       "8869       -0.488985  \n",
       "11645       -0.77205  \n",
       "7743        0.060494  \n",
       "...              ...  \n",
       "9225       -0.505635  \n",
       "13123      -0.755399  \n",
       "9845       -0.289174  \n",
       "10799         0.1604  \n",
       "2732       -1.038464  \n",
       "\n",
       "[15326 rows x 13 columns]"
      ]
     },
     "execution_count": 37,
     "metadata": {},
     "output_type": "execute_result"
    }
   ],
   "source": [
    "x_train"
   ]
  },
  {
   "cell_type": "code",
   "execution_count": 38,
   "id": "accompanied-genealogy",
   "metadata": {},
   "outputs": [
    {
     "data": {
      "text/html": [
       "<div>\n",
       "<style scoped>\n",
       "    .dataframe tbody tr th:only-of-type {\n",
       "        vertical-align: middle;\n",
       "    }\n",
       "\n",
       "    .dataframe tbody tr th {\n",
       "        vertical-align: top;\n",
       "    }\n",
       "\n",
       "    .dataframe thead th {\n",
       "        text-align: right;\n",
       "    }\n",
       "</style>\n",
       "<table border=\"1\" class=\"dataframe\">\n",
       "  <thead>\n",
       "    <tr style=\"text-align: right;\">\n",
       "      <th></th>\n",
       "      <th>enrollee_id</th>\n",
       "      <th>city</th>\n",
       "      <th>city_development_index</th>\n",
       "      <th>gender</th>\n",
       "      <th>relevent_experience</th>\n",
       "      <th>enrolled_university</th>\n",
       "      <th>education_level</th>\n",
       "      <th>major_discipline</th>\n",
       "      <th>experience</th>\n",
       "      <th>company_size</th>\n",
       "      <th>company_type</th>\n",
       "      <th>last_new_job</th>\n",
       "      <th>training_hours</th>\n",
       "    </tr>\n",
       "  </thead>\n",
       "  <tbody>\n",
       "    <tr>\n",
       "      <th>12777</th>\n",
       "      <td>1.051643</td>\n",
       "      <td>1.658234</td>\n",
       "      <td>0.892942</td>\n",
       "      <td>0.204235</td>\n",
       "      <td>-0.623752</td>\n",
       "      <td>0.568358</td>\n",
       "      <td>-0.692508</td>\n",
       "      <td>0.296787</td>\n",
       "      <td>-0.748072</td>\n",
       "      <td>-0.199374</td>\n",
       "      <td>-0.377458</td>\n",
       "      <td>1.164364</td>\n",
       "      <td>-0.139316</td>\n",
       "    </tr>\n",
       "    <tr>\n",
       "      <th>7926</th>\n",
       "      <td>1.599165</td>\n",
       "      <td>-1.105203</td>\n",
       "      <td>0.738919</td>\n",
       "      <td>0.204235</td>\n",
       "      <td>-0.623752</td>\n",
       "      <td>0.568358</td>\n",
       "      <td>1.315676</td>\n",
       "      <td>0.296787</td>\n",
       "      <td>-1.807527</td>\n",
       "      <td>-0.199374</td>\n",
       "      <td>0.393556</td>\n",
       "      <td>0.647726</td>\n",
       "      <td>1.059547</td>\n",
       "    </tr>\n",
       "    <tr>\n",
       "      <th>13990</th>\n",
       "      <td>-0.42464</td>\n",
       "      <td>-0.879617</td>\n",
       "      <td>0.787558</td>\n",
       "      <td>0.204235</td>\n",
       "      <td>-0.623752</td>\n",
       "      <td>0.568358</td>\n",
       "      <td>-0.692508</td>\n",
       "      <td>-4.961071</td>\n",
       "      <td>-0.294019</td>\n",
       "      <td>2.043168</td>\n",
       "      <td>-3.461515</td>\n",
       "      <td>-0.385551</td>\n",
       "      <td>-0.289174</td>\n",
       "    </tr>\n",
       "    <tr>\n",
       "      <th>14158</th>\n",
       "      <td>-0.032379</td>\n",
       "      <td>0.107325</td>\n",
       "      <td>0.657855</td>\n",
       "      <td>3.941318</td>\n",
       "      <td>-0.623752</td>\n",
       "      <td>0.568358</td>\n",
       "      <td>-0.692508</td>\n",
       "      <td>0.296787</td>\n",
       "      <td>-1.656176</td>\n",
       "      <td>-0.199374</td>\n",
       "      <td>0.393556</td>\n",
       "      <td>-0.902189</td>\n",
       "      <td>-0.805351</td>\n",
       "    </tr>\n",
       "    <tr>\n",
       "      <th>15652</th>\n",
       "      <td>1.248813</td>\n",
       "      <td>0.727689</td>\n",
       "      <td>0.892942</td>\n",
       "      <td>0.204235</td>\n",
       "      <td>-0.623752</td>\n",
       "      <td>-0.681482</td>\n",
       "      <td>-0.692508</td>\n",
       "      <td>0.296787</td>\n",
       "      <td>0.765436</td>\n",
       "      <td>-1.320645</td>\n",
       "      <td>0.393556</td>\n",
       "      <td>0.647726</td>\n",
       "      <td>-0.605541</td>\n",
       "    </tr>\n",
       "    <tr>\n",
       "      <th>...</th>\n",
       "      <td>...</td>\n",
       "      <td>...</td>\n",
       "      <td>...</td>\n",
       "      <td>...</td>\n",
       "      <td>...</td>\n",
       "      <td>...</td>\n",
       "      <td>...</td>\n",
       "      <td>...</td>\n",
       "      <td>...</td>\n",
       "      <td>...</td>\n",
       "      <td>...</td>\n",
       "      <td>...</td>\n",
       "      <td>...</td>\n",
       "    </tr>\n",
       "    <tr>\n",
       "      <th>8151</th>\n",
       "      <td>0.302998</td>\n",
       "      <td>0.558499</td>\n",
       "      <td>-1.66059</td>\n",
       "      <td>0.204235</td>\n",
       "      <td>-0.623752</td>\n",
       "      <td>-1.931321</td>\n",
       "      <td>-0.692508</td>\n",
       "      <td>0.296787</td>\n",
       "      <td>-1.353475</td>\n",
       "      <td>0.361261</td>\n",
       "      <td>0.393556</td>\n",
       "      <td>1.164364</td>\n",
       "      <td>-1.055114</td>\n",
       "    </tr>\n",
       "    <tr>\n",
       "      <th>5909</th>\n",
       "      <td>-0.933789</td>\n",
       "      <td>1.432647</td>\n",
       "      <td>0.212</td>\n",
       "      <td>-3.532849</td>\n",
       "      <td>-0.623752</td>\n",
       "      <td>0.568358</td>\n",
       "      <td>0.311584</td>\n",
       "      <td>0.296787</td>\n",
       "      <td>-0.294019</td>\n",
       "      <td>-1.320645</td>\n",
       "      <td>-1.919486</td>\n",
       "      <td>-0.902189</td>\n",
       "      <td>-0.688795</td>\n",
       "    </tr>\n",
       "    <tr>\n",
       "      <th>17565</th>\n",
       "      <td>1.485397</td>\n",
       "      <td>0.558499</td>\n",
       "      <td>-1.66059</td>\n",
       "      <td>0.204235</td>\n",
       "      <td>-0.623752</td>\n",
       "      <td>0.568358</td>\n",
       "      <td>-0.692508</td>\n",
       "      <td>0.296787</td>\n",
       "      <td>0.765436</td>\n",
       "      <td>0.361261</td>\n",
       "      <td>0.393556</td>\n",
       "      <td>-0.902189</td>\n",
       "      <td>-0.921907</td>\n",
       "    </tr>\n",
       "    <tr>\n",
       "      <th>13448</th>\n",
       "      <td>-0.337182</td>\n",
       "      <td>-1.133402</td>\n",
       "      <td>-0.201429</td>\n",
       "      <td>0.204235</td>\n",
       "      <td>1.603202</td>\n",
       "      <td>-1.931321</td>\n",
       "      <td>0.311584</td>\n",
       "      <td>0.296787</td>\n",
       "      <td>0.765436</td>\n",
       "      <td>0.361261</td>\n",
       "      <td>0.393556</td>\n",
       "      <td>0.647726</td>\n",
       "      <td>-0.705446</td>\n",
       "    </tr>\n",
       "    <tr>\n",
       "      <th>6472</th>\n",
       "      <td>0.058303</td>\n",
       "      <td>0.558499</td>\n",
       "      <td>-1.66059</td>\n",
       "      <td>0.204235</td>\n",
       "      <td>1.603202</td>\n",
       "      <td>-1.931321</td>\n",
       "      <td>-0.692508</td>\n",
       "      <td>0.296787</td>\n",
       "      <td>0.311384</td>\n",
       "      <td>0.361261</td>\n",
       "      <td>0.393556</td>\n",
       "      <td>1.681003</td>\n",
       "      <td>-0.522286</td>\n",
       "    </tr>\n",
       "  </tbody>\n",
       "</table>\n",
       "<p>3832 rows × 13 columns</p>\n",
       "</div>"
      ],
      "text/plain": [
       "      enrollee_id      city city_development_index    gender  \\\n",
       "12777    1.051643  1.658234               0.892942  0.204235   \n",
       "7926     1.599165 -1.105203               0.738919  0.204235   \n",
       "13990    -0.42464 -0.879617               0.787558  0.204235   \n",
       "14158   -0.032379  0.107325               0.657855  3.941318   \n",
       "15652    1.248813  0.727689               0.892942  0.204235   \n",
       "...           ...       ...                    ...       ...   \n",
       "8151     0.302998  0.558499               -1.66059  0.204235   \n",
       "5909    -0.933789  1.432647                  0.212 -3.532849   \n",
       "17565    1.485397  0.558499               -1.66059  0.204235   \n",
       "13448   -0.337182 -1.133402              -0.201429  0.204235   \n",
       "6472     0.058303  0.558499               -1.66059  0.204235   \n",
       "\n",
       "      relevent_experience enrolled_university education_level  \\\n",
       "12777           -0.623752            0.568358       -0.692508   \n",
       "7926            -0.623752            0.568358        1.315676   \n",
       "13990           -0.623752            0.568358       -0.692508   \n",
       "14158           -0.623752            0.568358       -0.692508   \n",
       "15652           -0.623752           -0.681482       -0.692508   \n",
       "...                   ...                 ...             ...   \n",
       "8151            -0.623752           -1.931321       -0.692508   \n",
       "5909            -0.623752            0.568358        0.311584   \n",
       "17565           -0.623752            0.568358       -0.692508   \n",
       "13448            1.603202           -1.931321        0.311584   \n",
       "6472             1.603202           -1.931321       -0.692508   \n",
       "\n",
       "      major_discipline experience company_size company_type last_new_job  \\\n",
       "12777         0.296787  -0.748072    -0.199374    -0.377458     1.164364   \n",
       "7926          0.296787  -1.807527    -0.199374     0.393556     0.647726   \n",
       "13990        -4.961071  -0.294019     2.043168    -3.461515    -0.385551   \n",
       "14158         0.296787  -1.656176    -0.199374     0.393556    -0.902189   \n",
       "15652         0.296787   0.765436    -1.320645     0.393556     0.647726   \n",
       "...                ...        ...          ...          ...          ...   \n",
       "8151          0.296787  -1.353475     0.361261     0.393556     1.164364   \n",
       "5909          0.296787  -0.294019    -1.320645    -1.919486    -0.902189   \n",
       "17565         0.296787   0.765436     0.361261     0.393556    -0.902189   \n",
       "13448         0.296787   0.765436     0.361261     0.393556     0.647726   \n",
       "6472          0.296787   0.311384     0.361261     0.393556     1.681003   \n",
       "\n",
       "      training_hours  \n",
       "12777      -0.139316  \n",
       "7926        1.059547  \n",
       "13990      -0.289174  \n",
       "14158      -0.805351  \n",
       "15652      -0.605541  \n",
       "...              ...  \n",
       "8151       -1.055114  \n",
       "5909       -0.688795  \n",
       "17565      -0.921907  \n",
       "13448      -0.705446  \n",
       "6472       -0.522286  \n",
       "\n",
       "[3832 rows x 13 columns]"
      ]
     },
     "execution_count": 38,
     "metadata": {},
     "output_type": "execute_result"
    }
   ],
   "source": [
    "x_test"
   ]
  },
  {
   "cell_type": "code",
   "execution_count": 39,
   "id": "ranging-mapping",
   "metadata": {},
   "outputs": [
    {
     "data": {
      "text/plain": [
       "array([1., 0., 0., ..., 0., 0., 0.])"
      ]
     },
     "execution_count": 39,
     "metadata": {},
     "output_type": "execute_result"
    }
   ],
   "source": [
    "y_train"
   ]
  },
  {
   "cell_type": "code",
   "execution_count": 40,
   "id": "particular-python",
   "metadata": {},
   "outputs": [
    {
     "data": {
      "text/plain": [
       "array([1., 0., 0., ..., 1., 0., 0.])"
      ]
     },
     "execution_count": 40,
     "metadata": {},
     "output_type": "execute_result"
    }
   ],
   "source": [
    "y_test"
   ]
  },
  {
   "cell_type": "code",
   "execution_count": 41,
   "id": "talented-sucking",
   "metadata": {},
   "outputs": [
    {
     "name": "stdout",
     "output_type": "stream",
     "text": [
      "[0. 0. 0. ... 1. 0. 1.]\n"
     ]
    }
   ],
   "source": [
    "from sklearn.svm import SVC\n",
    "svc = SVC()\n",
    "svc.fit(x_train, y_train)\n",
    "y_pred = svc.predict(x_test)\n",
    "print(y_pred)"
   ]
  },
  {
   "cell_type": "code",
   "execution_count": 42,
   "id": "heated-immune",
   "metadata": {},
   "outputs": [
    {
     "name": "stdout",
     "output_type": "stream",
     "text": [
      "              precision    recall  f1-score   support\n",
      "\n",
      "         0.0       0.81      0.92      0.86      2882\n",
      "         1.0       0.57      0.34      0.42       950\n",
      "\n",
      "    accuracy                           0.77      3832\n",
      "   macro avg       0.69      0.63      0.64      3832\n",
      "weighted avg       0.75      0.77      0.75      3832\n",
      "\n"
     ]
    }
   ],
   "source": [
    "from sklearn.metrics import classification_report,confusion_matrix\n",
    "print(classification_report(y_test,y_pred))"
   ]
  },
  {
   "cell_type": "code",
   "execution_count": 43,
   "id": "forced-september",
   "metadata": {},
   "outputs": [
    {
     "data": {
      "text/html": [
       "<div>\n",
       "<style scoped>\n",
       "    .dataframe tbody tr th:only-of-type {\n",
       "        vertical-align: middle;\n",
       "    }\n",
       "\n",
       "    .dataframe tbody tr th {\n",
       "        vertical-align: top;\n",
       "    }\n",
       "\n",
       "    .dataframe thead th {\n",
       "        text-align: right;\n",
       "    }\n",
       "</style>\n",
       "<table border=\"1\" class=\"dataframe\">\n",
       "  <thead>\n",
       "    <tr style=\"text-align: right;\">\n",
       "      <th></th>\n",
       "      <th>Actual</th>\n",
       "      <th>Predict</th>\n",
       "    </tr>\n",
       "  </thead>\n",
       "  <tbody>\n",
       "    <tr>\n",
       "      <th>0</th>\n",
       "      <td>1.0</td>\n",
       "      <td>0.0</td>\n",
       "    </tr>\n",
       "    <tr>\n",
       "      <th>1</th>\n",
       "      <td>0.0</td>\n",
       "      <td>0.0</td>\n",
       "    </tr>\n",
       "    <tr>\n",
       "      <th>2</th>\n",
       "      <td>0.0</td>\n",
       "      <td>0.0</td>\n",
       "    </tr>\n",
       "    <tr>\n",
       "      <th>3</th>\n",
       "      <td>0.0</td>\n",
       "      <td>0.0</td>\n",
       "    </tr>\n",
       "    <tr>\n",
       "      <th>4</th>\n",
       "      <td>0.0</td>\n",
       "      <td>0.0</td>\n",
       "    </tr>\n",
       "    <tr>\n",
       "      <th>...</th>\n",
       "      <td>...</td>\n",
       "      <td>...</td>\n",
       "    </tr>\n",
       "    <tr>\n",
       "      <th>3827</th>\n",
       "      <td>1.0</td>\n",
       "      <td>1.0</td>\n",
       "    </tr>\n",
       "    <tr>\n",
       "      <th>3828</th>\n",
       "      <td>0.0</td>\n",
       "      <td>0.0</td>\n",
       "    </tr>\n",
       "    <tr>\n",
       "      <th>3829</th>\n",
       "      <td>1.0</td>\n",
       "      <td>1.0</td>\n",
       "    </tr>\n",
       "    <tr>\n",
       "      <th>3830</th>\n",
       "      <td>0.0</td>\n",
       "      <td>0.0</td>\n",
       "    </tr>\n",
       "    <tr>\n",
       "      <th>3831</th>\n",
       "      <td>0.0</td>\n",
       "      <td>1.0</td>\n",
       "    </tr>\n",
       "  </tbody>\n",
       "</table>\n",
       "<p>3832 rows × 2 columns</p>\n",
       "</div>"
      ],
      "text/plain": [
       "      Actual  Predict\n",
       "0        1.0      0.0\n",
       "1        0.0      0.0\n",
       "2        0.0      0.0\n",
       "3        0.0      0.0\n",
       "4        0.0      0.0\n",
       "...      ...      ...\n",
       "3827     1.0      1.0\n",
       "3828     0.0      0.0\n",
       "3829     1.0      1.0\n",
       "3830     0.0      0.0\n",
       "3831     0.0      1.0\n",
       "\n",
       "[3832 rows x 2 columns]"
      ]
     },
     "execution_count": 43,
     "metadata": {},
     "output_type": "execute_result"
    }
   ],
   "source": [
    "df_comp = pd.DataFrame({'Actual':y_test , 'Predict':y_pred})\n",
    "df_comp"
   ]
  },
  {
   "cell_type": "code",
   "execution_count": 44,
   "id": "composed-payroll",
   "metadata": {},
   "outputs": [
    {
     "data": {
      "text/plain": [
       "<seaborn.axisgrid.PairGrid at 0x1ea935128e0>"
      ]
     },
     "execution_count": 44,
     "metadata": {},
     "output_type": "execute_result"
    },
    {
     "data": {
      "image/png": "[encoded data removed]",
      "text/plain": [
       "<Figure size 432x288 with 2 Axes>"
      ]
     },
     "metadata": {},
     "output_type": "display_data"
    },
    {
     "data": {
      "image/png": "[encoded data removed]",
      "text/plain": [
       "<Figure size 360x360 with 6 Axes>"
      ]
     },
     "metadata": {},
     "output_type": "display_data"
    }
   ],
   "source": [
    "sns.heatmap(df_comp)\n",
    "sns.pairplot(df_comp)"
   ]
  },
  {
   "cell_type": "code",
   "execution_count": 47,
   "id": "deadly-craft",
   "metadata": {},
   "outputs": [
    {
     "name": "stdout",
     "output_type": "stream",
     "text": [
      "Actual     950.0\n",
      "Predict    561.0\n",
      "dtype: float64\n"
     ]
    }
   ],
   "source": [
    "print (df_comp.sum())\n"
   ]
  },
  {
   "cell_type": "code",
   "execution_count": 49,
   "id": "comparable-summary",
   "metadata": {},
   "outputs": [
    {
     "data": {
      "text/plain": [
       "([<matplotlib.patches.Wedge at 0x1ea94cd9af0>,\n",
       "  <matplotlib.patches.Wedge at 0x1eaa2a672b0>],\n",
       " [Text(-0.7726993358016642, 0.7829021244393627, 'Looking for a job change'),\n",
       "  Text(0.7726994091022475, -0.7829020520940264, 'Not Looking for a job change')],\n",
       " [Text(-0.42147236498272583, 0.42703752242147053, '25%'),\n",
       "  Text(0.42147240496486227, -0.42703748296037797, '75%')])"
      ]
     },
     "execution_count": 49,
     "metadata": {},
     "output_type": "execute_result"
    },
    {
     "data": {
      "image/png": "[encoded data removed]",
      "text/plain": [
       "<Figure size 432x288 with 1 Axes>"
      ]
     },
     "metadata": {},
     "output_type": "display_data"
    }
   ],
   "source": [
    "data = [950,2882]\n",
    "names = ['Looking for a job change','Not Looking for a job change']\n",
    "plt.title (' Looking for a job change & Not Looking for a job change (y_test) ',color = 'red')\n",
    "plt.pie (data,labels = names,labeldistance = 1.1,startangle = 90,colors = ['blue','red'],autopct = '%1.0f%%',)"
   ]
  },
  {
   "cell_type": "code",
   "execution_count": 51,
   "id": "forbidden-flood",
   "metadata": {},
   "outputs": [
    {
     "data": {
      "text/plain": [
       "([<matplotlib.patches.Wedge at 0x1eaa2af6f10>,\n",
       "  <matplotlib.patches.Wedge at 0x1eaa2b03490>],\n",
       " [Text(-0.48826923512114373, 0.9856942497723183, 'Looking for a job change'),\n",
       "  Text(0.48826932740849743, -0.9856942040572491, 'Not Looking for a job change')],\n",
       " [Text(-0.266328673702442, 0.537651408966719, '15%'),\n",
       "  Text(0.26632872404099855, -0.5376513840312267, '85%')])"
      ]
     },
     "execution_count": 51,
     "metadata": {},
     "output_type": "execute_result"
    },
    {
     "data": {
      "image/png": "[encoded data removed]",
      "text/plain": [
       "<Figure size 432x288 with 1 Axes>"
      ]
     },
     "metadata": {},
     "output_type": "display_data"
    }
   ],
   "source": [
    "data = [561,3271]\n",
    "names = ['Looking for a job change','Not Looking for a job change']\n",
    "plt.title (' Looking for a job change & Not Looking for a job change (y_Pred) ',color = 'red')\n",
    "plt.pie (data,labels = names,labeldistance = 1.1,startangle = 90,colors = ['blue','red'],autopct = '%1.0f%%',)"
   ]
  },
  {
   "cell_type": "code",
   "execution_count": null,
   "id": "altered-daily",
   "metadata": {},
   "outputs": [],
   "source": []
  }
 ],
 "metadata": {
  "kernelspec": {
   "display_name": "Python 3",
   "language": "python",
   "name": "python3"
  },
  "language_info": {
   "codemirror_mode": {
    "name": "ipython",
    "version": 3
   },
   "file_extension": ".py",
   "mimetype": "text/x-python",
   "name": "python",
   "nbconvert_exporter": "python",
   "pygments_lexer": "ipython3",
   "version": "3.8.8"
  }
 },
 "nbformat": 4,
 "nbformat_minor": 5
}
